{
 "cells": [
  {
   "cell_type": "markdown",
   "metadata": {},
   "source": [
    "Before we get started, a couple of reminders to keep in mind when using iPython notebooks:\n",
    "\n",
    "- Remember that you can see from the left side of a code cell when it was last run if there is a number within the brackets.\n",
    "- When you start a new notebook session, make sure you run all of the cells up to the point where you last left off. Even if the output is still visible from when you ran the cells in your previous session, the kernel starts in a fresh state so you'll need to reload the data, etc. on a new session.\n",
    "- The previous point is useful to keep in mind if your answers do not match what is expected in the lesson's quizzes. Try reloading the data and run all of the processing steps one by one in order to make sure that you are working with the same variables and data that are at each quiz stage.\n",
    "\n",
    "\n",
    "## Load Data from CSVs"
   ]
  },
  {
   "cell_type": "code",
   "execution_count": 3,
   "metadata": {},
   "outputs": [
    {
     "name": "stdout",
     "output_type": "stream",
     "text": [
      "OrderedDict([('account_key', '448'), ('status', 'canceled'), ('join_date', '2014-11-10'), ('cancel_date', '2015-01-14'), ('days_to_cancel', '65'), ('is_udacity', 'True'), ('is_canceled', 'True')]) \n",
      "\n",
      "OrderedDict([('utc_date', '2014-11-05'), ('acct', '448'), ('registration_date', '2014-08-05'), ('subscription_start', '2014-11-05'), ('course_key', 'ud359-nd'), ('sibling_key', 'ud359'), ('course_title', 'Intro to Data Science'), ('has_visited', '0.0'), ('total_minutes_visited', '0.0'), ('lessons_completed', '0.0'), ('projects_completed', '0.0'), ('account_key', '2257038596')]) \n",
      "\n",
      "OrderedDict([('creation_date', '2015-01-14'), ('completion_date', '2015-01-16'), ('assigned_rating', 'UNGRADED'), ('account_key', '256'), ('lesson_key', '3176718735'), ('processing_state', 'EVALUATED')]) \n",
      "\n",
      "DONE!\n"
     ]
    }
   ],
   "source": [
    "##############################################\n",
    "# make a function instead to read all 3 lists\n",
    "#############################################\n",
    "import unicodecsv\n",
    "\n",
    "def read_csv(filename):\n",
    "    with open(filename, 'rb') as f:\n",
    "        reader = unicodecsv.DictReader(f)\n",
    "        return list(reader)\n",
    "\n",
    "enrollments = read_csv('enrollments.csv')\n",
    "engagements = read_csv('daily-engagement-full.csv')\n",
    "submissions = read_csv('project-submissions.csv')\n",
    "\n",
    "print (enrollments[0], '\\n')\n",
    "print (engagements[0], '\\n')\n",
    "print (submissions[0], '\\n')\n",
    "print('DONE!')"
   ]
  },
  {
   "cell_type": "markdown",
   "metadata": {},
   "source": [
    "## Fixing Data Types"
   ]
  },
  {
   "cell_type": "code",
   "execution_count": 4,
   "metadata": {},
   "outputs": [
    {
     "data": {
      "text/plain": [
       "OrderedDict([('account_key', '448'),\n",
       "             ('status', 'canceled'),\n",
       "             ('join_date', datetime.datetime(2014, 11, 10, 0, 0)),\n",
       "             ('cancel_date', datetime.datetime(2015, 1, 14, 0, 0)),\n",
       "             ('days_to_cancel', 65),\n",
       "             ('is_udacity', True),\n",
       "             ('is_canceled', True)])"
      ]
     },
     "execution_count": 4,
     "metadata": {},
     "output_type": "execute_result"
    }
   ],
   "source": [
    "from datetime import datetime as dt\n",
    "\n",
    "# Takes a date as a string, and returns a Python datetime object. \n",
    "# If there is no date given, returns None\n",
    "def parse_date(date):\n",
    "    if date == '':\n",
    "        return None\n",
    "    else:\n",
    "        return dt.strptime(date, '%Y-%m-%d')\n",
    "    \n",
    "# Takes a string which is either an empty string or represents an integer,\n",
    "# and returns an int or None.\n",
    "def parse_maybe_int(i):\n",
    "    if i == '':\n",
    "        return None\n",
    "    else:\n",
    "        return int(i)\n",
    "\n",
    "# Clean up the data types in the enrollments table\n",
    "for enrollment in enrollments:\n",
    "    enrollment['cancel_date'] = parse_date(enrollment['cancel_date'])\n",
    "    enrollment['days_to_cancel'] = parse_maybe_int(enrollment['days_to_cancel'])\n",
    "    enrollment['is_canceled'] = enrollment['is_canceled'] == 'True'\n",
    "    enrollment['is_udacity'] = enrollment['is_udacity'] == 'True'\n",
    "    enrollment['join_date'] = parse_date(enrollment['join_date'])\n",
    "    \n",
    "enrollments[0]\n"
   ]
  },
  {
   "cell_type": "code",
   "execution_count": 5,
   "metadata": {},
   "outputs": [
    {
     "data": {
      "text/plain": [
       "OrderedDict([('utc_date', datetime.datetime(2014, 11, 5, 0, 0)),\n",
       "             ('acct', '448'),\n",
       "             ('registration_date', '2014-08-05'),\n",
       "             ('subscription_start', '2014-11-05'),\n",
       "             ('course_key', 'ud359-nd'),\n",
       "             ('sibling_key', 'ud359'),\n",
       "             ('course_title', 'Intro to Data Science'),\n",
       "             ('has_visited', 0),\n",
       "             ('total_minutes_visited', 0.0),\n",
       "             ('lessons_completed', 0),\n",
       "             ('projects_completed', 0),\n",
       "             ('account_key', '2257038596')])"
      ]
     },
     "execution_count": 5,
     "metadata": {},
     "output_type": "execute_result"
    }
   ],
   "source": [
    "# Clean up the data types in the engagement table\n",
    "for engagement_record in engagements:\n",
    "    engagement_record['lessons_completed'] = int(float(engagement_record['lessons_completed']))\n",
    "    engagement_record['has_visited'] = int(float(engagement_record['has_visited']))\n",
    "    engagement_record['projects_completed'] = int(float(engagement_record['projects_completed']))\n",
    "    engagement_record['total_minutes_visited'] = float(engagement_record['total_minutes_visited'])\n",
    "    engagement_record['utc_date'] = parse_date(engagement_record['utc_date'])\n",
    "    \n",
    "engagements[0]\n"
   ]
  },
  {
   "cell_type": "code",
   "execution_count": 6,
   "metadata": {},
   "outputs": [
    {
     "data": {
      "text/plain": [
       "OrderedDict([('creation_date', datetime.datetime(2015, 1, 14, 0, 0)),\n",
       "             ('completion_date', datetime.datetime(2015, 1, 16, 0, 0)),\n",
       "             ('assigned_rating', 'UNGRADED'),\n",
       "             ('account_key', '256'),\n",
       "             ('lesson_key', '3176718735'),\n",
       "             ('processing_state', 'EVALUATED')])"
      ]
     },
     "execution_count": 6,
     "metadata": {},
     "output_type": "execute_result"
    }
   ],
   "source": [
    "# Clean up the data types in the submissions table\n",
    "for submission in submissions:\n",
    "    submission['completion_date'] = parse_date(submission['completion_date'])\n",
    "    submission['creation_date'] = parse_date(submission['creation_date'])\n",
    "\n",
    "submissions[0]\n"
   ]
  },
  {
   "cell_type": "code",
   "execution_count": 7,
   "metadata": {},
   "outputs": [
    {
     "name": "stdout",
     "output_type": "stream",
     "text": [
      "DONE!\n"
     ]
    }
   ],
   "source": [
    "'''\n",
    "fixing data element\n",
    "'''\n",
    "def get_unique_students(data):\n",
    "    unique_students = set()\n",
    "    for data_point in data:\n",
    "        unique_students.add(data_point['account_key'])\n",
    "    return unique_students\n",
    "\n",
    "print('DONE!')"
   ]
  },
  {
   "cell_type": "markdown",
   "metadata": {},
   "source": [
    "Note when running the above cells that we are actively changing the contents of our data variables. If you try to run these cells multiple times in the same session, an error will occur.\n",
    "\n",
    "## Investigating the Data"
   ]
  },
  {
   "cell_type": "code",
   "execution_count": 8,
   "metadata": {},
   "outputs": [
    {
     "data": {
      "text/plain": [
       "'\\nquestions to answer from data\\n1. How long is the average project submission?\\n2. How long to pass a class on average?\\n3. How long to get distinction on a project?\\n4. How time spent relates to number of projects?\\n5. How many times does a student submit a project before passing on average?\\n'"
      ]
     },
     "execution_count": 8,
     "metadata": {},
     "output_type": "execute_result"
    }
   ],
   "source": [
    "'''\n",
    "questions to answer from data\n",
    "1. How long is the average project submission?\n",
    "2. How long to pass a class on average?\n",
    "3. How long to get distinction on a project?\n",
    "4. How time spent relates to number of projects?\n",
    "5. How many times does a student submit a project before passing on average?\n",
    "'''"
   ]
  },
  {
   "cell_type": "code",
   "execution_count": 9,
   "metadata": {},
   "outputs": [
    {
     "data": {
      "text/plain": [
       "1640"
      ]
     },
     "execution_count": 9,
     "metadata": {},
     "output_type": "execute_result"
    }
   ],
   "source": [
    "len(enrollments)"
   ]
  },
  {
   "cell_type": "code",
   "execution_count": 10,
   "metadata": {},
   "outputs": [],
   "source": [
    "unique_enrolled_students = get_unique_students(enrollments)"
   ]
  },
  {
   "cell_type": "code",
   "execution_count": 11,
   "metadata": {},
   "outputs": [
    {
     "data": {
      "text/plain": [
       "1302"
      ]
     },
     "execution_count": 11,
     "metadata": {},
     "output_type": "execute_result"
    }
   ],
   "source": [
    "len(unique_enrolled_students)"
   ]
  },
  {
   "cell_type": "code",
   "execution_count": 12,
   "metadata": {},
   "outputs": [
    {
     "data": {
      "text/plain": [
       "2309239"
      ]
     },
     "execution_count": 12,
     "metadata": {},
     "output_type": "execute_result"
    }
   ],
   "source": [
    "len(engagements)"
   ]
  },
  {
   "cell_type": "code",
   "execution_count": 13,
   "metadata": {},
   "outputs": [],
   "source": [
    "unique_engagement_students = get_unique_students(engagements)"
   ]
  },
  {
   "cell_type": "code",
   "execution_count": 14,
   "metadata": {},
   "outputs": [
    {
     "data": {
      "text/plain": [
       "1237"
      ]
     },
     "execution_count": 14,
     "metadata": {},
     "output_type": "execute_result"
    }
   ],
   "source": [
    "len(unique_engagement_students)"
   ]
  },
  {
   "cell_type": "code",
   "execution_count": 15,
   "metadata": {},
   "outputs": [
    {
     "data": {
      "text/plain": [
       "3642"
      ]
     },
     "execution_count": 15,
     "metadata": {},
     "output_type": "execute_result"
    }
   ],
   "source": [
    "len(submissions)"
   ]
  },
  {
   "cell_type": "code",
   "execution_count": 16,
   "metadata": {},
   "outputs": [],
   "source": [
    "unique_project_submitters = get_unique_students(submissions)"
   ]
  },
  {
   "cell_type": "code",
   "execution_count": 17,
   "metadata": {},
   "outputs": [
    {
     "data": {
      "text/plain": [
       "743"
      ]
     },
     "execution_count": 17,
     "metadata": {},
     "output_type": "execute_result"
    }
   ],
   "source": [
    "len(unique_project_submitters)"
   ]
  },
  {
   "cell_type": "code",
   "execution_count": 18,
   "metadata": {},
   "outputs": [
    {
     "data": {
      "text/plain": [
       "OrderedDict([('utc_date', datetime.datetime(2014, 11, 5, 0, 0)),\n",
       "             ('acct', '448'),\n",
       "             ('registration_date', '2014-08-05'),\n",
       "             ('subscription_start', '2014-11-05'),\n",
       "             ('course_key', 'ud359-nd'),\n",
       "             ('sibling_key', 'ud359'),\n",
       "             ('course_title', 'Intro to Data Science'),\n",
       "             ('has_visited', 0),\n",
       "             ('total_minutes_visited', 0.0),\n",
       "             ('lessons_completed', 0),\n",
       "             ('projects_completed', 0),\n",
       "             ('account_key', '2257038596')])"
      ]
     },
     "execution_count": 18,
     "metadata": {},
     "output_type": "execute_result"
    }
   ],
   "source": [
    "engagements[0]"
   ]
  },
  {
   "cell_type": "code",
   "execution_count": 19,
   "metadata": {},
   "outputs": [
    {
     "data": {
      "text/plain": [
       "1302"
      ]
     },
     "execution_count": 19,
     "metadata": {},
     "output_type": "execute_result"
    }
   ],
   "source": [
    "#####################################\n",
    "#                 2                 #\n",
    "#####################################\n",
    "\n",
    "## Find the total number of rows and the number of unique students (account keys)\n",
    "## in each table.\n",
    "\n",
    "\n",
    "len(unique_enrolled_students)\n"
   ]
  },
  {
   "cell_type": "markdown",
   "metadata": {},
   "source": [
    "## Problems in the Data"
   ]
  },
  {
   "cell_type": "code",
   "execution_count": 20,
   "metadata": {},
   "outputs": [],
   "source": [
    "#####################################\n",
    "#                 3                 #\n",
    "#####################################\n",
    "\n",
    "## Rename the \"acct\" column in the daily_engagement table to \"account_key\"."
   ]
  },
  {
   "cell_type": "code",
   "execution_count": 21,
   "metadata": {
    "scrolled": true
   },
   "outputs": [
    {
     "data": {
      "text/plain": [
       "OrderedDict([('utc_date', datetime.datetime(2014, 11, 5, 0, 0)),\n",
       "             ('registration_date', '2014-08-05'),\n",
       "             ('subscription_start', '2014-11-05'),\n",
       "             ('course_key', 'ud359-nd'),\n",
       "             ('sibling_key', 'ud359'),\n",
       "             ('course_title', 'Intro to Data Science'),\n",
       "             ('has_visited', 0),\n",
       "             ('total_minutes_visited', 0.0),\n",
       "             ('lessons_completed', 0),\n",
       "             ('projects_completed', 0),\n",
       "             ('account_key', '448')])"
      ]
     },
     "execution_count": 21,
     "metadata": {},
     "output_type": "execute_result"
    }
   ],
   "source": [
    "'''\n",
    "fix the account_key and acct column\n",
    "'''\n",
    "for engagement_record in engagements:\n",
    "        engagement_record['account_key'] = engagement_record['acct']\n",
    "        del[engagement_record['acct']]\n",
    "        \n",
    "    \n",
    "engagements[0]"
   ]
  },
  {
   "cell_type": "markdown",
   "metadata": {},
   "source": [
    "## Missing Engagement Records"
   ]
  },
  {
   "cell_type": "code",
   "execution_count": 22,
   "metadata": {},
   "outputs": [
    {
     "name": "stdout",
     "output_type": "stream",
     "text": [
      "OrderedDict([('account_key', '448'), ('status', 'canceled'), ('join_date', datetime.datetime(2014, 11, 10, 0, 0)), ('cancel_date', datetime.datetime(2015, 1, 14, 0, 0)), ('days_to_cancel', 65), ('is_udacity', True), ('is_canceled', True)])\n"
     ]
    }
   ],
   "source": [
    "#####################################\n",
    "#                 4                 #\n",
    "#####################################\n",
    "\n",
    "## Find any one student enrollments where the student is missing from the daily engagement table.\n",
    "## Output that enrollment.\n",
    "for enrollment in enrollments:\n",
    "    student = enrollment['account_key']\n",
    "    if student not in unique_engagement_students:\n",
    "        print(enrollment)\n",
    "        break\n",
    "  "
   ]
  },
  {
   "cell_type": "markdown",
   "metadata": {},
   "source": [
    "## Checking for More Problem Records"
   ]
  },
  {
   "cell_type": "code",
   "execution_count": 23,
   "metadata": {},
   "outputs": [
    {
     "data": {
      "text/plain": [
       "1548"
      ]
     },
     "execution_count": 23,
     "metadata": {},
     "output_type": "execute_result"
    }
   ],
   "source": [
    "#####################################\n",
    "#                 5                 #\n",
    "#####################################\n",
    "\n",
    "## Find the number of surprising data points (enrollments missing from\n",
    "## the engagement table) that remain, if any.\n",
    "num_prob_students = 0\n",
    "for enrollment in enrollments:\n",
    "    student = enrollment['account_key']\n",
    "    if student not in unique_engagement_students \\\n",
    "        and enrollment['join_date'] != enrollment['cancel_date']:\n",
    "        num_prob_students += 1\n",
    "        \n",
    "num_prob_students"
   ]
  },
  {
   "cell_type": "markdown",
   "metadata": {},
   "source": [
    "## Tracking Down the Remaining Problems"
   ]
  },
  {
   "cell_type": "code",
   "execution_count": 24,
   "metadata": {},
   "outputs": [
    {
     "data": {
      "text/plain": [
       "6"
      ]
     },
     "execution_count": 24,
     "metadata": {},
     "output_type": "execute_result"
    }
   ],
   "source": [
    "# Create a set of the account keys for all Udacity test accounts\n",
    "udacity_test_accounts = set()\n",
    "for enrollment in enrollments:\n",
    "    if enrollment['is_udacity']:\n",
    "        udacity_test_accounts.add(enrollment['account_key'])\n",
    "len(udacity_test_accounts)"
   ]
  },
  {
   "cell_type": "code",
   "execution_count": 25,
   "metadata": {},
   "outputs": [],
   "source": [
    "# Given some data with an account_key field, removes any records corresponding to Udacity test accounts\n",
    "def remove_udacity_accounts(data):\n",
    "    non_udacity_data = []\n",
    "    for data_point in data:\n",
    "        if data_point['account_key'] not in udacity_test_accounts:\n",
    "            non_udacity_data.append(data_point)\n",
    "    return non_udacity_data"
   ]
  },
  {
   "cell_type": "code",
   "execution_count": 26,
   "metadata": {},
   "outputs": [
    {
     "name": "stdout",
     "output_type": "stream",
     "text": [
      "1622\n",
      "2299629\n",
      "3634\n"
     ]
    }
   ],
   "source": [
    "# Remove Udacity test accounts from all three tables\n",
    "non_udacity_enrollments = remove_udacity_accounts(enrollments)\n",
    "non_udacity_engagement = remove_udacity_accounts(engagements)\n",
    "non_udacity_submissions = remove_udacity_accounts(submissions)\n",
    "\n",
    "print(len(non_udacity_enrollments))\n",
    "print(len(non_udacity_engagement))\n",
    "print(len(non_udacity_submissions))"
   ]
  },
  {
   "cell_type": "markdown",
   "metadata": {},
   "source": [
    "## Refining the Question"
   ]
  },
  {
   "cell_type": "code",
   "execution_count": 27,
   "metadata": {},
   "outputs": [
    {
     "data": {
      "text/plain": [
       "995"
      ]
     },
     "execution_count": 27,
     "metadata": {},
     "output_type": "execute_result"
    }
   ],
   "source": [
    "#####################################\n",
    "#                 6                 #\n",
    "#####################################\n",
    "\n",
    "## Create a dictionary named paid_students containing all students who either\n",
    "## haven't canceled yet or who remained enrolled for more than 7 days. The keys\n",
    "## should be account keys, and the values should be the date the student enrolled.\n",
    "\n",
    "paid_students = {}\n",
    "\n",
    "for enrollment in non_udacity_enrollments:\n",
    "    if not enrollment['is_canceled'] or enrollment['days_to_cancel'] > 7:\n",
    "        account_key = enrollment['account_key']\n",
    "        enrollment_date = enrollment['join_date']\n",
    "        \n",
    "        if account_key not in paid_students or enrollment_date > paid_students[account_key]:\n",
    "            paid_students[account_key] = enrollment_date\n",
    "\n",
    "len(paid_students)"
   ]
  },
  {
   "cell_type": "markdown",
   "metadata": {},
   "source": [
    "## Getting Data from First Week"
   ]
  },
  {
   "cell_type": "code",
   "execution_count": 28,
   "metadata": {},
   "outputs": [],
   "source": [
    "# Takes a student's join date and the date of a specific engagement record,\n",
    "# and returns True if that engagement record happened within one week\n",
    "# of the student joining.\n",
    "def within_one_week(join_date, engagement_date):\n",
    "    time_delta = engagement_date - join_date\n",
    "    return time_delta.days < 7 and time_delta.days >= 0"
   ]
  },
  {
   "cell_type": "code",
   "execution_count": 29,
   "metadata": {},
   "outputs": [
    {
     "name": "stdout",
     "output_type": "stream",
     "text": [
      "1293\n",
      "2281112\n",
      "3618\n"
     ]
    }
   ],
   "source": [
    "#####################################\n",
    "#                 7                 #\n",
    "#####################################\n",
    "\n",
    "## Create a list of rows from the engagement table including only rows where\n",
    "## the student is one of the paid students you just found, and the date is within\n",
    "## one week of the student's join date.\n",
    "\n",
    "#paid_engagement_in_first_week = \n",
    "\n",
    "def remove_free_trial_cancels(data):\n",
    "    new_data = []\n",
    "    for data_point in data:\n",
    "        if data_point['account_key'] in paid_students:\n",
    "            new_data.append(data_point)\n",
    "    return new_data\n",
    "\n",
    "paid_enrollments = remove_free_trial_cancels(non_udacity_enrollments)\n",
    "paid_engagement = remove_free_trial_cancels(non_udacity_engagement)\n",
    "paid_submissions = remove_free_trial_cancels(non_udacity_submissions)\n",
    "\n",
    "print(len(paid_enrollments))\n",
    "print(len(paid_engagement))\n",
    "print(len(paid_submissions))\n"
   ]
  },
  {
   "cell_type": "code",
   "execution_count": 30,
   "metadata": {},
   "outputs": [],
   "source": [
    "'''\n",
    "creating new field called has visited\n",
    "'''\n",
    "for engagement_record in paid_engagement:\n",
    "    if engagement_record['has_visited'] > 0:\n",
    "        engagement_record['has_visited'] = 1\n",
    "    else:\n",
    "        engagement_record['has_visited'] = 0"
   ]
  },
  {
   "cell_type": "code",
   "execution_count": 31,
   "metadata": {},
   "outputs": [
    {
     "data": {
      "text/plain": [
       "113273"
      ]
     },
     "execution_count": 31,
     "metadata": {},
     "output_type": "execute_result"
    }
   ],
   "source": [
    "paid_engagement_in_first_week = []\n",
    "\n",
    "for engagement_record in paid_engagement:\n",
    "    account_key = engagement_record['account_key']\n",
    "    join_date = paid_students[account_key]\n",
    "    engagement_record_date = engagement_record['utc_date']\n",
    "    \n",
    "    if within_one_week(join_date, engagement_record_date):\n",
    "        paid_engagement_in_first_week.append(engagement_record)\n",
    "    \n",
    "len(paid_engagement_in_first_week)"
   ]
  },
  {
   "cell_type": "markdown",
   "metadata": {},
   "source": [
    "## Exploring Student Engagement"
   ]
  },
  {
   "cell_type": "code",
   "execution_count": 32,
   "metadata": {},
   "outputs": [],
   "source": [
    "from collections import defaultdict\n",
    "\n",
    "# Create a dictionary of engagement grouped by student.\n",
    "# The keys are account keys, and the values are lists of engagement records.\n",
    "engagement_by_account = defaultdict(list)\n",
    "for engagement_record in paid_engagement_in_first_week:\n",
    "    account_key = engagement_record['account_key']\n",
    "    engagement_by_account[account_key].append(engagement_record)"
   ]
  },
  {
   "cell_type": "code",
   "execution_count": 33,
   "metadata": {},
   "outputs": [],
   "source": [
    "# Create a dictionary with the total minutes each student spent in the classroom during the first week.\n",
    "# The keys are account keys, and the values are numbers (total minutes)\n",
    "total_minutes_by_account = {}\n",
    "for account_key, engagement_for_student in engagement_by_account.items():\n",
    "    total_minutes = 0\n",
    "    for engagement_record in engagement_for_student:\n",
    "        total_minutes += engagement_record['total_minutes_visited']\n",
    "    total_minutes_by_account[account_key] = total_minutes"
   ]
  },
  {
   "cell_type": "code",
   "execution_count": 34,
   "metadata": {},
   "outputs": [
    {
     "name": "stdout",
     "output_type": "stream",
     "text": [
      "Mean: 306.7083267534287\n",
      "Standard deviation: 413.2046261213701\n",
      "Minimum: 0.0\n",
      "Maximum: 3564.73326449893\n"
     ]
    }
   ],
   "source": [
    "import numpy as np\n",
    "import statistics as stat\n",
    "\n",
    "\n",
    "# Summarize the data about minutes spent in the classroom\n",
    "total_minutes = total_minutes_by_account.values()\n",
    "mu = stat.mean(total_minutes)\n",
    "std = stat.stdev(total_minutes)\n",
    "print('Mean:', mu)\n",
    "print('Standard deviation:', std)\n",
    "print('Minimum:', min(total_minutes))\n",
    "print('Maximum:', max(total_minutes))"
   ]
  },
  {
   "cell_type": "markdown",
   "metadata": {},
   "source": [
    "## Debugging Data Analysis Code"
   ]
  },
  {
   "cell_type": "code",
   "execution_count": 35,
   "metadata": {},
   "outputs": [
    {
     "data": {
      "text/plain": [
       "3564.73326449893"
      ]
     },
     "execution_count": 35,
     "metadata": {},
     "output_type": "execute_result"
    }
   ],
   "source": [
    "#####################################\n",
    "#                 8                 #\n",
    "#####################################\n",
    "\n",
    "## Go through a similar process as before to see if there is a problem.\n",
    "## Locate at least one surprising piece of data, output it, and take a look at it.\n",
    "\n",
    "student_with_max_minutes = None\n",
    "max_minutes = 0\n",
    "\n",
    "for student, total_minutes in total_minutes_by_account.items():\n",
    "    if total_minutes > max_minutes:\n",
    "        max_minutes = total_minutes\n",
    "        student_with_max_minutes = student\n",
    "\n",
    "max_minutes"
   ]
  },
  {
   "cell_type": "code",
   "execution_count": 36,
   "metadata": {},
   "outputs": [
    {
     "name": "stdout",
     "output_type": "stream",
     "text": [
      "OrderedDict([('utc_date', datetime.datetime(2015, 7, 9, 0, 0)), ('registration_date', '2014-02-02'), ('subscription_start', '2015-07-09'), ('course_key', 'ud507-nd'), ('sibling_key', 'ud507'), ('course_title', 'Data Visualization and D3.js'), ('has_visited', 0), ('total_minutes_visited', 0.0), ('lessons_completed', 0), ('projects_completed', 0), ('account_key', '163')])\n",
      "OrderedDict([('utc_date', datetime.datetime(2015, 7, 9, 0, 0)), ('registration_date', '2014-02-02'), ('subscription_start', '2015-07-09'), ('course_key', 'ud359-nd'), ('sibling_key', 'ud359'), ('course_title', 'Intro to Data Science'), ('has_visited', 0), ('total_minutes_visited', 0.0), ('lessons_completed', 0), ('projects_completed', 0), ('account_key', '163')])\n",
      "OrderedDict([('utc_date', datetime.datetime(2015, 7, 9, 0, 0)), ('registration_date', '2014-02-02'), ('subscription_start', '2015-07-09'), ('course_key', 'ud032-nd'), ('sibling_key', 'ud032'), ('course_title', 'Data Wrangling with MongoDB'), ('has_visited', 0), ('total_minutes_visited', 0.0), ('lessons_completed', 0), ('projects_completed', 0), ('account_key', '163')])\n",
      "OrderedDict([('utc_date', datetime.datetime(2015, 7, 9, 0, 0)), ('registration_date', '2014-02-02'), ('subscription_start', '2015-07-09'), ('course_key', 'ud651-nd'), ('sibling_key', 'ud651'), ('course_title', 'Data Analysis with R'), ('has_visited', 0), ('total_minutes_visited', 0.0), ('lessons_completed', 0), ('projects_completed', 0), ('account_key', '163')])\n",
      "OrderedDict([('utc_date', datetime.datetime(2015, 7, 9, 0, 0)), ('registration_date', '2014-02-02'), ('subscription_start', '2015-07-09'), ('course_key', 'ud120-nd'), ('sibling_key', 'ud120'), ('course_title', 'Intro to Machine Learning'), ('has_visited', 0), ('total_minutes_visited', 0.0), ('lessons_completed', 0), ('projects_completed', 0), ('account_key', '163')])\n",
      "OrderedDict([('utc_date', datetime.datetime(2015, 7, 9, 0, 0)), ('registration_date', '2014-02-02'), ('subscription_start', '2015-07-09'), ('course_key', 'ud257-nd'), ('sibling_key', 'ud257'), ('course_title', 'A/B Testing'), ('has_visited', 0), ('total_minutes_visited', 0.0), ('lessons_completed', 0), ('projects_completed', 0), ('account_key', '163')])\n",
      "OrderedDict([('utc_date', datetime.datetime(2015, 7, 9, 0, 0)), ('registration_date', '2014-02-02'), ('subscription_start', '2015-07-09'), ('course_key', 'ud304-nd'), ('sibling_key', 'ud304'), ('course_title', 'Intro to HTML and CSS'), ('has_visited', 0), ('total_minutes_visited', 0.0), ('lessons_completed', 0), ('projects_completed', 0), ('account_key', '163')])\n",
      "OrderedDict([('utc_date', datetime.datetime(2015, 7, 9, 0, 0)), ('registration_date', '2014-02-02'), ('subscription_start', '2015-07-09'), ('course_key', 'ud804-nd'), ('sibling_key', 'ud804'), ('course_title', 'JavaScript Basics'), ('has_visited', 0), ('total_minutes_visited', 0.0), ('lessons_completed', 0), ('projects_completed', 0), ('account_key', '163')])\n",
      "OrderedDict([('utc_date', datetime.datetime(2015, 7, 9, 0, 0)), ('registration_date', '2014-02-02'), ('subscription_start', '2015-07-09'), ('course_key', 'ud032'), ('sibling_key', 'ud032'), ('course_title', 'Data Wrangling with MongoDB'), ('has_visited', 0), ('total_minutes_visited', 0.0), ('lessons_completed', 0), ('projects_completed', 0), ('account_key', '163')])\n",
      "OrderedDict([('utc_date', datetime.datetime(2015, 7, 9, 0, 0)), ('registration_date', '2014-02-02'), ('subscription_start', '2015-07-09'), ('course_key', 'ud359'), ('sibling_key', 'ud359'), ('course_title', 'Intro to Data Science'), ('has_visited', 0), ('total_minutes_visited', 0.0), ('lessons_completed', 0), ('projects_completed', 0), ('account_key', '163')])\n",
      "OrderedDict([('utc_date', datetime.datetime(2015, 7, 9, 0, 0)), ('registration_date', '2014-02-02'), ('subscription_start', '2015-07-09'), ('course_key', 'ud651'), ('sibling_key', 'ud651'), ('course_title', 'Data Analysis with R'), ('has_visited', 0), ('total_minutes_visited', 0.0), ('lessons_completed', 0), ('projects_completed', 0), ('account_key', '163')])\n",
      "OrderedDict([('utc_date', datetime.datetime(2015, 7, 9, 0, 0)), ('registration_date', '2014-02-02'), ('subscription_start', '2015-07-09'), ('course_key', 'ud120'), ('sibling_key', 'ud120'), ('course_title', 'Intro to Machine Learning'), ('has_visited', 0), ('total_minutes_visited', 0.0), ('lessons_completed', 0), ('projects_completed', 0), ('account_key', '163')])\n",
      "OrderedDict([('utc_date', datetime.datetime(2015, 7, 9, 0, 0)), ('registration_date', '2014-02-02'), ('subscription_start', '2015-07-09'), ('course_key', 'ud507'), ('sibling_key', 'ud507'), ('course_title', 'Data Visualization and D3.js'), ('has_visited', 0), ('total_minutes_visited', 0.0), ('lessons_completed', 0), ('projects_completed', 0), ('account_key', '163')])\n",
      "OrderedDict([('utc_date', datetime.datetime(2015, 7, 9, 0, 0)), ('registration_date', '2014-02-02'), ('subscription_start', '2015-07-09'), ('course_key', 'ud304'), ('sibling_key', 'ud304'), ('course_title', 'Intro to HTML and CSS'), ('has_visited', 0), ('total_minutes_visited', 0.0), ('lessons_completed', 0), ('projects_completed', 0), ('account_key', '163')])\n",
      "OrderedDict([('utc_date', datetime.datetime(2015, 7, 9, 0, 0)), ('registration_date', '2014-02-02'), ('subscription_start', '2015-07-09'), ('course_key', 'ud804'), ('sibling_key', 'ud804'), ('course_title', 'JavaScript Basics'), ('has_visited', 0), ('total_minutes_visited', 0.0), ('lessons_completed', 0), ('projects_completed', 0), ('account_key', '163')])\n",
      "OrderedDict([('utc_date', datetime.datetime(2015, 7, 9, 0, 0)), ('registration_date', '2014-02-02'), ('subscription_start', '2015-07-09'), ('course_key', 'ud257'), ('sibling_key', 'ud257'), ('course_title', 'A/B Testing'), ('has_visited', 0), ('total_minutes_visited', 0.0), ('lessons_completed', 0), ('projects_completed', 0), ('account_key', '163')])\n",
      "OrderedDict([('utc_date', datetime.datetime(2015, 7, 9, 0, 0)), ('registration_date', '2014-02-02'), ('subscription_start', '2015-07-09'), ('course_key', 'ud134-nd'), ('sibling_key', 'ud134'), ('course_title', 'ud134-nd'), ('has_visited', 1), ('total_minutes_visited', 139.122327), ('lessons_completed', 1), ('projects_completed', 0), ('account_key', '163')])\n",
      "OrderedDict([('utc_date', datetime.datetime(2015, 7, 9, 0, 0)), ('registration_date', '2014-02-02'), ('subscription_start', '2015-07-09'), ('course_key', 'nd002'), ('sibling_key', 'nd002'), ('course_title', 'Data Analyst Nanodegree'), ('has_visited', 1), ('total_minutes_visited', 286.137342833), ('lessons_completed', 1), ('projects_completed', 0), ('account_key', '163')])\n",
      "OrderedDict([('utc_date', datetime.datetime(2015, 7, 9, 0, 0)), ('registration_date', '2014-02-02'), ('subscription_start', '2015-07-09'), ('course_key', 'ud507-nd'), ('sibling_key', 'ud507'), ('course_title', 'Data Visualization and D3.js'), ('has_visited', 0), ('total_minutes_visited', 0.0), ('lessons_completed', 0), ('projects_completed', 0), ('account_key', '163')])\n",
      "OrderedDict([('utc_date', datetime.datetime(2015, 7, 9, 0, 0)), ('registration_date', '2014-02-02'), ('subscription_start', '2015-07-09'), ('course_key', 'ud359-nd'), ('sibling_key', 'ud359'), ('course_title', 'Intro to Data Science'), ('has_visited', 0), ('total_minutes_visited', 0.0), ('lessons_completed', 0), ('projects_completed', 0), ('account_key', '163')])\n",
      "OrderedDict([('utc_date', datetime.datetime(2015, 7, 9, 0, 0)), ('registration_date', '2014-02-02'), ('subscription_start', '2015-07-09'), ('course_key', 'ud032-nd'), ('sibling_key', 'ud032'), ('course_title', 'Data Wrangling with MongoDB'), ('has_visited', 0), ('total_minutes_visited', 0.0), ('lessons_completed', 0), ('projects_completed', 0), ('account_key', '163')])\n",
      "OrderedDict([('utc_date', datetime.datetime(2015, 7, 9, 0, 0)), ('registration_date', '2014-02-02'), ('subscription_start', '2015-07-09'), ('course_key', 'ud651-nd'), ('sibling_key', 'ud651'), ('course_title', 'Data Analysis with R'), ('has_visited', 0), ('total_minutes_visited', 0.0), ('lessons_completed', 0), ('projects_completed', 0), ('account_key', '163')])\n",
      "OrderedDict([('utc_date', datetime.datetime(2015, 7, 9, 0, 0)), ('registration_date', '2014-02-02'), ('subscription_start', '2015-07-09'), ('course_key', 'ud120-nd'), ('sibling_key', 'ud120'), ('course_title', 'Intro to Machine Learning'), ('has_visited', 0), ('total_minutes_visited', 0.0), ('lessons_completed', 0), ('projects_completed', 0), ('account_key', '163')])\n",
      "OrderedDict([('utc_date', datetime.datetime(2015, 7, 9, 0, 0)), ('registration_date', '2014-02-02'), ('subscription_start', '2015-07-09'), ('course_key', 'ud257-nd'), ('sibling_key', 'ud257'), ('course_title', 'A/B Testing'), ('has_visited', 0), ('total_minutes_visited', 0.0), ('lessons_completed', 0), ('projects_completed', 0), ('account_key', '163')])\n",
      "OrderedDict([('utc_date', datetime.datetime(2015, 7, 9, 0, 0)), ('registration_date', '2014-02-02'), ('subscription_start', '2015-07-09'), ('course_key', 'ud304-nd'), ('sibling_key', 'ud304'), ('course_title', 'Intro to HTML and CSS'), ('has_visited', 0), ('total_minutes_visited', 0.0), ('lessons_completed', 0), ('projects_completed', 0), ('account_key', '163')])\n",
      "OrderedDict([('utc_date', datetime.datetime(2015, 7, 9, 0, 0)), ('registration_date', '2014-02-02'), ('subscription_start', '2015-07-09'), ('course_key', 'ud804-nd'), ('sibling_key', 'ud804'), ('course_title', 'JavaScript Basics'), ('has_visited', 0), ('total_minutes_visited', 0.0), ('lessons_completed', 0), ('projects_completed', 0), ('account_key', '163')])\n",
      "OrderedDict([('utc_date', datetime.datetime(2015, 7, 9, 0, 0)), ('registration_date', '2014-02-02'), ('subscription_start', '2015-07-09'), ('course_key', 'ud032'), ('sibling_key', 'ud032'), ('course_title', 'Data Wrangling with MongoDB'), ('has_visited', 0), ('total_minutes_visited', 0.0), ('lessons_completed', 0), ('projects_completed', 0), ('account_key', '163')])\n",
      "OrderedDict([('utc_date', datetime.datetime(2015, 7, 9, 0, 0)), ('registration_date', '2014-02-02'), ('subscription_start', '2015-07-09'), ('course_key', 'ud359'), ('sibling_key', 'ud359'), ('course_title', 'Intro to Data Science'), ('has_visited', 0), ('total_minutes_visited', 0.0), ('lessons_completed', 0), ('projects_completed', 0), ('account_key', '163')])\n",
      "OrderedDict([('utc_date', datetime.datetime(2015, 7, 9, 0, 0)), ('registration_date', '2014-02-02'), ('subscription_start', '2015-07-09'), ('course_key', 'ud651'), ('sibling_key', 'ud651'), ('course_title', 'Data Analysis with R'), ('has_visited', 0), ('total_minutes_visited', 0.0), ('lessons_completed', 0), ('projects_completed', 0), ('account_key', '163')])\n",
      "OrderedDict([('utc_date', datetime.datetime(2015, 7, 9, 0, 0)), ('registration_date', '2014-02-02'), ('subscription_start', '2015-07-09'), ('course_key', 'ud120'), ('sibling_key', 'ud120'), ('course_title', 'Intro to Machine Learning'), ('has_visited', 0), ('total_minutes_visited', 0.0), ('lessons_completed', 0), ('projects_completed', 0), ('account_key', '163')])\n",
      "OrderedDict([('utc_date', datetime.datetime(2015, 7, 9, 0, 0)), ('registration_date', '2014-02-02'), ('subscription_start', '2015-07-09'), ('course_key', 'ud507'), ('sibling_key', 'ud507'), ('course_title', 'Data Visualization and D3.js'), ('has_visited', 0), ('total_minutes_visited', 0.0), ('lessons_completed', 0), ('projects_completed', 0), ('account_key', '163')])\n",
      "OrderedDict([('utc_date', datetime.datetime(2015, 7, 9, 0, 0)), ('registration_date', '2014-02-02'), ('subscription_start', '2015-07-09'), ('course_key', 'ud304'), ('sibling_key', 'ud304'), ('course_title', 'Intro to HTML and CSS'), ('has_visited', 0), ('total_minutes_visited', 0.0), ('lessons_completed', 0), ('projects_completed', 0), ('account_key', '163')])\n",
      "OrderedDict([('utc_date', datetime.datetime(2015, 7, 9, 0, 0)), ('registration_date', '2014-02-02'), ('subscription_start', '2015-07-09'), ('course_key', 'ud804'), ('sibling_key', 'ud804'), ('course_title', 'JavaScript Basics'), ('has_visited', 0), ('total_minutes_visited', 0.0), ('lessons_completed', 0), ('projects_completed', 0), ('account_key', '163')])\n",
      "OrderedDict([('utc_date', datetime.datetime(2015, 7, 9, 0, 0)), ('registration_date', '2014-02-02'), ('subscription_start', '2015-07-09'), ('course_key', 'ud257'), ('sibling_key', 'ud257'), ('course_title', 'A/B Testing'), ('has_visited', 0), ('total_minutes_visited', 0.0), ('lessons_completed', 0), ('projects_completed', 0), ('account_key', '163')])\n",
      "OrderedDict([('utc_date', datetime.datetime(2015, 7, 9, 0, 0)), ('registration_date', '2014-02-02'), ('subscription_start', '2015-07-09'), ('course_key', 'ud134-nd'), ('sibling_key', 'ud134'), ('course_title', 'ud134-nd'), ('has_visited', 1), ('total_minutes_visited', 139.122327), ('lessons_completed', 1), ('projects_completed', 0), ('account_key', '163')])\n",
      "OrderedDict([('utc_date', datetime.datetime(2015, 7, 9, 0, 0)), ('registration_date', '2014-02-02'), ('subscription_start', '2015-07-09'), ('course_key', 'nd002'), ('sibling_key', 'nd002'), ('course_title', 'Data Analyst Nanodegree'), ('has_visited', 1), ('total_minutes_visited', 286.137342833), ('lessons_completed', 1), ('projects_completed', 0), ('account_key', '163')])\n",
      "OrderedDict([('utc_date', datetime.datetime(2015, 7, 10, 0, 0)), ('registration_date', '2014-02-02'), ('subscription_start', '2015-07-09'), ('course_key', 'ud804-nd'), ('sibling_key', 'ud804'), ('course_title', 'JavaScript Basics'), ('has_visited', 0), ('total_minutes_visited', 0.0), ('lessons_completed', 0), ('projects_completed', 0), ('account_key', '163')])\n",
      "OrderedDict([('utc_date', datetime.datetime(2015, 7, 10, 0, 0)), ('registration_date', '2014-02-02'), ('subscription_start', '2015-07-09'), ('course_key', 'ud120-nd'), ('sibling_key', 'ud120'), ('course_title', 'Intro to Machine Learning'), ('has_visited', 0), ('total_minutes_visited', 0.0), ('lessons_completed', 0), ('projects_completed', 0), ('account_key', '163')])\n",
      "OrderedDict([('utc_date', datetime.datetime(2015, 7, 10, 0, 0)), ('registration_date', '2014-02-02'), ('subscription_start', '2015-07-09'), ('course_key', 'ud507-nd'), ('sibling_key', 'ud507'), ('course_title', 'Data Visualization and D3.js'), ('has_visited', 0), ('total_minutes_visited', 0.0), ('lessons_completed', 0), ('projects_completed', 0), ('account_key', '163')])\n",
      "OrderedDict([('utc_date', datetime.datetime(2015, 7, 10, 0, 0)), ('registration_date', '2014-02-02'), ('subscription_start', '2015-07-09'), ('course_key', 'ud304-nd'), ('sibling_key', 'ud304'), ('course_title', 'Intro to HTML and CSS'), ('has_visited', 0), ('total_minutes_visited', 0.0), ('lessons_completed', 0), ('projects_completed', 0), ('account_key', '163')])\n",
      "OrderedDict([('utc_date', datetime.datetime(2015, 7, 10, 0, 0)), ('registration_date', '2014-02-02'), ('subscription_start', '2015-07-09'), ('course_key', 'ud032-nd'), ('sibling_key', 'ud032'), ('course_title', 'Data Wrangling with MongoDB'), ('has_visited', 0), ('total_minutes_visited', 0.0), ('lessons_completed', 0), ('projects_completed', 0), ('account_key', '163')])\n",
      "OrderedDict([('utc_date', datetime.datetime(2015, 7, 10, 0, 0)), ('registration_date', '2014-02-02'), ('subscription_start', '2015-07-09'), ('course_key', 'ud651-nd'), ('sibling_key', 'ud651'), ('course_title', 'Data Analysis with R'), ('has_visited', 0), ('total_minutes_visited', 0.0), ('lessons_completed', 0), ('projects_completed', 0), ('account_key', '163')])\n",
      "OrderedDict([('utc_date', datetime.datetime(2015, 7, 10, 0, 0)), ('registration_date', '2014-02-02'), ('subscription_start', '2015-07-09'), ('course_key', 'ud257-nd'), ('sibling_key', 'ud257'), ('course_title', 'A/B Testing'), ('has_visited', 0), ('total_minutes_visited', 0.0), ('lessons_completed', 0), ('projects_completed', 0), ('account_key', '163')])\n",
      "OrderedDict([('utc_date', datetime.datetime(2015, 7, 10, 0, 0)), ('registration_date', '2014-02-02'), ('subscription_start', '2015-07-09'), ('course_key', 'ud359-nd'), ('sibling_key', 'ud359'), ('course_title', 'Intro to Data Science'), ('has_visited', 1), ('total_minutes_visited', 105.686388167), ('lessons_completed', 1), ('projects_completed', 0), ('account_key', '163')])\n",
      "OrderedDict([('utc_date', datetime.datetime(2015, 7, 10, 0, 0)), ('registration_date', '2014-02-02'), ('subscription_start', '2015-07-09'), ('course_key', 'ud651'), ('sibling_key', 'ud651'), ('course_title', 'Data Analysis with R'), ('has_visited', 0), ('total_minutes_visited', 0.0), ('lessons_completed', 0), ('projects_completed', 0), ('account_key', '163')])\n",
      "OrderedDict([('utc_date', datetime.datetime(2015, 7, 10, 0, 0)), ('registration_date', '2014-02-02'), ('subscription_start', '2015-07-09'), ('course_key', 'ud120'), ('sibling_key', 'ud120'), ('course_title', 'Intro to Machine Learning'), ('has_visited', 0), ('total_minutes_visited', 0.0), ('lessons_completed', 0), ('projects_completed', 0), ('account_key', '163')])\n",
      "OrderedDict([('utc_date', datetime.datetime(2015, 7, 10, 0, 0)), ('registration_date', '2014-02-02'), ('subscription_start', '2015-07-09'), ('course_key', 'ud507'), ('sibling_key', 'ud507'), ('course_title', 'Data Visualization and D3.js'), ('has_visited', 0), ('total_minutes_visited', 0.0), ('lessons_completed', 0), ('projects_completed', 0), ('account_key', '163')])\n",
      "OrderedDict([('utc_date', datetime.datetime(2015, 7, 10, 0, 0)), ('registration_date', '2014-02-02'), ('subscription_start', '2015-07-09'), ('course_key', 'ud359'), ('sibling_key', 'ud359'), ('course_title', 'Intro to Data Science'), ('has_visited', 0), ('total_minutes_visited', 0.0), ('lessons_completed', 0), ('projects_completed', 0), ('account_key', '163')])\n",
      "OrderedDict([('utc_date', datetime.datetime(2015, 7, 10, 0, 0)), ('registration_date', '2014-02-02'), ('subscription_start', '2015-07-09'), ('course_key', 'ud032'), ('sibling_key', 'ud032'), ('course_title', 'Data Wrangling with MongoDB'), ('has_visited', 0), ('total_minutes_visited', 0.0), ('lessons_completed', 0), ('projects_completed', 0), ('account_key', '163')])\n",
      "OrderedDict([('utc_date', datetime.datetime(2015, 7, 10, 0, 0)), ('registration_date', '2014-02-02'), ('subscription_start', '2015-07-09'), ('course_key', 'ud804'), ('sibling_key', 'ud804'), ('course_title', 'JavaScript Basics'), ('has_visited', 0), ('total_minutes_visited', 0.0), ('lessons_completed', 0), ('projects_completed', 0), ('account_key', '163')])\n",
      "OrderedDict([('utc_date', datetime.datetime(2015, 7, 10, 0, 0)), ('registration_date', '2014-02-02'), ('subscription_start', '2015-07-09'), ('course_key', 'ud304'), ('sibling_key', 'ud304'), ('course_title', 'Intro to HTML and CSS'), ('has_visited', 0), ('total_minutes_visited', 0.0), ('lessons_completed', 0), ('projects_completed', 0), ('account_key', '163')])\n",
      "OrderedDict([('utc_date', datetime.datetime(2015, 7, 10, 0, 0)), ('registration_date', '2014-02-02'), ('subscription_start', '2015-07-09'), ('course_key', 'ud257'), ('sibling_key', 'ud257'), ('course_title', 'A/B Testing'), ('has_visited', 0), ('total_minutes_visited', 0.0), ('lessons_completed', 0), ('projects_completed', 0), ('account_key', '163')])\n",
      "OrderedDict([('utc_date', datetime.datetime(2015, 7, 10, 0, 0)), ('registration_date', '2014-02-02'), ('subscription_start', '2015-07-09'), ('course_key', 'nd002'), ('sibling_key', 'nd002'), ('course_title', 'Data Analyst Nanodegree'), ('has_visited', 1), ('total_minutes_visited', 99.1786405), ('lessons_completed', 1), ('projects_completed', 0), ('account_key', '163')])\n",
      "OrderedDict([('utc_date', datetime.datetime(2015, 7, 10, 0, 0)), ('registration_date', '2014-02-02'), ('subscription_start', '2015-07-09'), ('course_key', 'ud134-nd'), ('sibling_key', 'ud134'), ('course_title', 'ud134-nd'), ('has_visited', 1), ('total_minutes_visited', 231.451933), ('lessons_completed', 1), ('projects_completed', 0), ('account_key', '163')])\n",
      "OrderedDict([('utc_date', datetime.datetime(2015, 7, 10, 0, 0)), ('registration_date', '2014-02-02'), ('subscription_start', '2015-07-09'), ('course_key', 'ud804-nd'), ('sibling_key', 'ud804'), ('course_title', 'JavaScript Basics'), ('has_visited', 0), ('total_minutes_visited', 0.0), ('lessons_completed', 0), ('projects_completed', 0), ('account_key', '163')])\n",
      "OrderedDict([('utc_date', datetime.datetime(2015, 7, 10, 0, 0)), ('registration_date', '2014-02-02'), ('subscription_start', '2015-07-09'), ('course_key', 'ud120-nd'), ('sibling_key', 'ud120'), ('course_title', 'Intro to Machine Learning'), ('has_visited', 0), ('total_minutes_visited', 0.0), ('lessons_completed', 0), ('projects_completed', 0), ('account_key', '163')])\n",
      "OrderedDict([('utc_date', datetime.datetime(2015, 7, 10, 0, 0)), ('registration_date', '2014-02-02'), ('subscription_start', '2015-07-09'), ('course_key', 'ud507-nd'), ('sibling_key', 'ud507'), ('course_title', 'Data Visualization and D3.js'), ('has_visited', 0), ('total_minutes_visited', 0.0), ('lessons_completed', 0), ('projects_completed', 0), ('account_key', '163')])\n",
      "OrderedDict([('utc_date', datetime.datetime(2015, 7, 10, 0, 0)), ('registration_date', '2014-02-02'), ('subscription_start', '2015-07-09'), ('course_key', 'ud304-nd'), ('sibling_key', 'ud304'), ('course_title', 'Intro to HTML and CSS'), ('has_visited', 0), ('total_minutes_visited', 0.0), ('lessons_completed', 0), ('projects_completed', 0), ('account_key', '163')])\n",
      "OrderedDict([('utc_date', datetime.datetime(2015, 7, 10, 0, 0)), ('registration_date', '2014-02-02'), ('subscription_start', '2015-07-09'), ('course_key', 'ud032-nd'), ('sibling_key', 'ud032'), ('course_title', 'Data Wrangling with MongoDB'), ('has_visited', 0), ('total_minutes_visited', 0.0), ('lessons_completed', 0), ('projects_completed', 0), ('account_key', '163')])\n",
      "OrderedDict([('utc_date', datetime.datetime(2015, 7, 10, 0, 0)), ('registration_date', '2014-02-02'), ('subscription_start', '2015-07-09'), ('course_key', 'ud651-nd'), ('sibling_key', 'ud651'), ('course_title', 'Data Analysis with R'), ('has_visited', 0), ('total_minutes_visited', 0.0), ('lessons_completed', 0), ('projects_completed', 0), ('account_key', '163')])\n",
      "OrderedDict([('utc_date', datetime.datetime(2015, 7, 10, 0, 0)), ('registration_date', '2014-02-02'), ('subscription_start', '2015-07-09'), ('course_key', 'ud257-nd'), ('sibling_key', 'ud257'), ('course_title', 'A/B Testing'), ('has_visited', 0), ('total_minutes_visited', 0.0), ('lessons_completed', 0), ('projects_completed', 0), ('account_key', '163')])\n",
      "OrderedDict([('utc_date', datetime.datetime(2015, 7, 10, 0, 0)), ('registration_date', '2014-02-02'), ('subscription_start', '2015-07-09'), ('course_key', 'ud359-nd'), ('sibling_key', 'ud359'), ('course_title', 'Intro to Data Science'), ('has_visited', 1), ('total_minutes_visited', 105.686388167), ('lessons_completed', 1), ('projects_completed', 0), ('account_key', '163')])\n",
      "OrderedDict([('utc_date', datetime.datetime(2015, 7, 10, 0, 0)), ('registration_date', '2014-02-02'), ('subscription_start', '2015-07-09'), ('course_key', 'ud651'), ('sibling_key', 'ud651'), ('course_title', 'Data Analysis with R'), ('has_visited', 0), ('total_minutes_visited', 0.0), ('lessons_completed', 0), ('projects_completed', 0), ('account_key', '163')])\n",
      "OrderedDict([('utc_date', datetime.datetime(2015, 7, 10, 0, 0)), ('registration_date', '2014-02-02'), ('subscription_start', '2015-07-09'), ('course_key', 'ud120'), ('sibling_key', 'ud120'), ('course_title', 'Intro to Machine Learning'), ('has_visited', 0), ('total_minutes_visited', 0.0), ('lessons_completed', 0), ('projects_completed', 0), ('account_key', '163')])\n",
      "OrderedDict([('utc_date', datetime.datetime(2015, 7, 10, 0, 0)), ('registration_date', '2014-02-02'), ('subscription_start', '2015-07-09'), ('course_key', 'ud507'), ('sibling_key', 'ud507'), ('course_title', 'Data Visualization and D3.js'), ('has_visited', 0), ('total_minutes_visited', 0.0), ('lessons_completed', 0), ('projects_completed', 0), ('account_key', '163')])\n",
      "OrderedDict([('utc_date', datetime.datetime(2015, 7, 10, 0, 0)), ('registration_date', '2014-02-02'), ('subscription_start', '2015-07-09'), ('course_key', 'ud359'), ('sibling_key', 'ud359'), ('course_title', 'Intro to Data Science'), ('has_visited', 0), ('total_minutes_visited', 0.0), ('lessons_completed', 0), ('projects_completed', 0), ('account_key', '163')])\n",
      "OrderedDict([('utc_date', datetime.datetime(2015, 7, 10, 0, 0)), ('registration_date', '2014-02-02'), ('subscription_start', '2015-07-09'), ('course_key', 'ud032'), ('sibling_key', 'ud032'), ('course_title', 'Data Wrangling with MongoDB'), ('has_visited', 0), ('total_minutes_visited', 0.0), ('lessons_completed', 0), ('projects_completed', 0), ('account_key', '163')])\n",
      "OrderedDict([('utc_date', datetime.datetime(2015, 7, 10, 0, 0)), ('registration_date', '2014-02-02'), ('subscription_start', '2015-07-09'), ('course_key', 'ud804'), ('sibling_key', 'ud804'), ('course_title', 'JavaScript Basics'), ('has_visited', 0), ('total_minutes_visited', 0.0), ('lessons_completed', 0), ('projects_completed', 0), ('account_key', '163')])\n",
      "OrderedDict([('utc_date', datetime.datetime(2015, 7, 10, 0, 0)), ('registration_date', '2014-02-02'), ('subscription_start', '2015-07-09'), ('course_key', 'ud304'), ('sibling_key', 'ud304'), ('course_title', 'Intro to HTML and CSS'), ('has_visited', 0), ('total_minutes_visited', 0.0), ('lessons_completed', 0), ('projects_completed', 0), ('account_key', '163')])\n",
      "OrderedDict([('utc_date', datetime.datetime(2015, 7, 10, 0, 0)), ('registration_date', '2014-02-02'), ('subscription_start', '2015-07-09'), ('course_key', 'ud257'), ('sibling_key', 'ud257'), ('course_title', 'A/B Testing'), ('has_visited', 0), ('total_minutes_visited', 0.0), ('lessons_completed', 0), ('projects_completed', 0), ('account_key', '163')])\n",
      "OrderedDict([('utc_date', datetime.datetime(2015, 7, 10, 0, 0)), ('registration_date', '2014-02-02'), ('subscription_start', '2015-07-09'), ('course_key', 'nd002'), ('sibling_key', 'nd002'), ('course_title', 'Data Analyst Nanodegree'), ('has_visited', 1), ('total_minutes_visited', 99.1786405), ('lessons_completed', 1), ('projects_completed', 0), ('account_key', '163')])\n",
      "OrderedDict([('utc_date', datetime.datetime(2015, 7, 10, 0, 0)), ('registration_date', '2014-02-02'), ('subscription_start', '2015-07-09'), ('course_key', 'ud134-nd'), ('sibling_key', 'ud134'), ('course_title', 'ud134-nd'), ('has_visited', 1), ('total_minutes_visited', 231.451933), ('lessons_completed', 1), ('projects_completed', 0), ('account_key', '163')])\n",
      "OrderedDict([('utc_date', datetime.datetime(2015, 7, 11, 0, 0)), ('registration_date', '2014-02-02'), ('subscription_start', '2015-07-09'), ('course_key', 'ud032-nd'), ('sibling_key', 'ud032'), ('course_title', 'Data Wrangling with MongoDB'), ('has_visited', 0), ('total_minutes_visited', 0.0), ('lessons_completed', 0), ('projects_completed', 0), ('account_key', '163')])\n",
      "OrderedDict([('utc_date', datetime.datetime(2015, 7, 11, 0, 0)), ('registration_date', '2014-02-02'), ('subscription_start', '2015-07-09'), ('course_key', 'ud804-nd'), ('sibling_key', 'ud804'), ('course_title', 'JavaScript Basics'), ('has_visited', 0), ('total_minutes_visited', 0.0), ('lessons_completed', 0), ('projects_completed', 0), ('account_key', '163')])\n",
      "OrderedDict([('utc_date', datetime.datetime(2015, 7, 11, 0, 0)), ('registration_date', '2014-02-02'), ('subscription_start', '2015-07-09'), ('course_key', 'ud507-nd'), ('sibling_key', 'ud507'), ('course_title', 'Data Visualization and D3.js'), ('has_visited', 0), ('total_minutes_visited', 0.0), ('lessons_completed', 0), ('projects_completed', 0), ('account_key', '163')])\n",
      "OrderedDict([('utc_date', datetime.datetime(2015, 7, 11, 0, 0)), ('registration_date', '2014-02-02'), ('subscription_start', '2015-07-09'), ('course_key', 'ud120-nd'), ('sibling_key', 'ud120'), ('course_title', 'Intro to Machine Learning'), ('has_visited', 0), ('total_minutes_visited', 0.0), ('lessons_completed', 0), ('projects_completed', 0), ('account_key', '163')])\n",
      "OrderedDict([('utc_date', datetime.datetime(2015, 7, 11, 0, 0)), ('registration_date', '2014-02-02'), ('subscription_start', '2015-07-09'), ('course_key', 'ud651-nd'), ('sibling_key', 'ud651'), ('course_title', 'Data Analysis with R'), ('has_visited', 0), ('total_minutes_visited', 0.0), ('lessons_completed', 0), ('projects_completed', 0), ('account_key', '163')])\n",
      "OrderedDict([('utc_date', datetime.datetime(2015, 7, 11, 0, 0)), ('registration_date', '2014-02-02'), ('subscription_start', '2015-07-09'), ('course_key', 'ud304-nd'), ('sibling_key', 'ud304'), ('course_title', 'Intro to HTML and CSS'), ('has_visited', 0), ('total_minutes_visited', 0.0), ('lessons_completed', 0), ('projects_completed', 0), ('account_key', '163')])\n",
      "OrderedDict([('utc_date', datetime.datetime(2015, 7, 11, 0, 0)), ('registration_date', '2014-02-02'), ('subscription_start', '2015-07-09'), ('course_key', 'ud257'), ('sibling_key', 'ud257'), ('course_title', 'A/B Testing'), ('has_visited', 0), ('total_minutes_visited', 0.0), ('lessons_completed', 0), ('projects_completed', 0), ('account_key', '163')])\n",
      "OrderedDict([('utc_date', datetime.datetime(2015, 7, 11, 0, 0)), ('registration_date', '2014-02-02'), ('subscription_start', '2015-07-09'), ('course_key', 'ud257-nd'), ('sibling_key', 'ud257'), ('course_title', 'A/B Testing'), ('has_visited', 0), ('total_minutes_visited', 0.0), ('lessons_completed', 0), ('projects_completed', 0), ('account_key', '163')])\n",
      "OrderedDict([('utc_date', datetime.datetime(2015, 7, 11, 0, 0)), ('registration_date', '2014-02-02'), ('subscription_start', '2015-07-09'), ('course_key', 'ud359-nd'), ('sibling_key', 'ud359'), ('course_title', 'Intro to Data Science'), ('has_visited', 1), ('total_minutes_visited', 388.509451833), ('lessons_completed', 3), ('projects_completed', 0), ('account_key', '163')])\n",
      "OrderedDict([('utc_date', datetime.datetime(2015, 7, 11, 0, 0)), ('registration_date', '2014-02-02'), ('subscription_start', '2015-07-09'), ('course_key', 'ud507'), ('sibling_key', 'ud507'), ('course_title', 'Data Visualization and D3.js'), ('has_visited', 0), ('total_minutes_visited', 0.0), ('lessons_completed', 0), ('projects_completed', 0), ('account_key', '163')])\n",
      "OrderedDict([('utc_date', datetime.datetime(2015, 7, 11, 0, 0)), ('registration_date', '2014-02-02'), ('subscription_start', '2015-07-09'), ('course_key', 'ud304'), ('sibling_key', 'ud304'), ('course_title', 'Intro to HTML and CSS'), ('has_visited', 0), ('total_minutes_visited', 0.0), ('lessons_completed', 0), ('projects_completed', 0), ('account_key', '163')])\n",
      "OrderedDict([('utc_date', datetime.datetime(2015, 7, 11, 0, 0)), ('registration_date', '2014-02-02'), ('subscription_start', '2015-07-09'), ('course_key', 'ud032'), ('sibling_key', 'ud032'), ('course_title', 'Data Wrangling with MongoDB'), ('has_visited', 0), ('total_minutes_visited', 0.0), ('lessons_completed', 0), ('projects_completed', 0), ('account_key', '163')])\n",
      "OrderedDict([('utc_date', datetime.datetime(2015, 7, 11, 0, 0)), ('registration_date', '2014-02-02'), ('subscription_start', '2015-07-09'), ('course_key', 'ud120'), ('sibling_key', 'ud120'), ('course_title', 'Intro to Machine Learning'), ('has_visited', 0), ('total_minutes_visited', 0.0), ('lessons_completed', 0), ('projects_completed', 0), ('account_key', '163')])\n",
      "OrderedDict([('utc_date', datetime.datetime(2015, 7, 11, 0, 0)), ('registration_date', '2014-02-02'), ('subscription_start', '2015-07-09'), ('course_key', 'ud804'), ('sibling_key', 'ud804'), ('course_title', 'JavaScript Basics'), ('has_visited', 0), ('total_minutes_visited', 0.0), ('lessons_completed', 0), ('projects_completed', 0), ('account_key', '163')])\n",
      "OrderedDict([('utc_date', datetime.datetime(2015, 7, 11, 0, 0)), ('registration_date', '2014-02-02'), ('subscription_start', '2015-07-09'), ('course_key', 'ud359'), ('sibling_key', 'ud359'), ('course_title', 'Intro to Data Science'), ('has_visited', 0), ('total_minutes_visited', 0.0), ('lessons_completed', 0), ('projects_completed', 0), ('account_key', '163')])\n",
      "OrderedDict([('utc_date', datetime.datetime(2015, 7, 11, 0, 0)), ('registration_date', '2014-02-02'), ('subscription_start', '2015-07-09'), ('course_key', 'ud134-nd'), ('sibling_key', 'ud134'), ('course_title', 'ud134-nd'), ('has_visited', 0), ('total_minutes_visited', 0.0), ('lessons_completed', 0), ('projects_completed', 0), ('account_key', '163')])\n",
      "OrderedDict([('utc_date', datetime.datetime(2015, 7, 11, 0, 0)), ('registration_date', '2014-02-02'), ('subscription_start', '2015-07-09'), ('course_key', 'ud651'), ('sibling_key', 'ud651'), ('course_title', 'Data Analysis with R'), ('has_visited', 0), ('total_minutes_visited', 0.0), ('lessons_completed', 0), ('projects_completed', 0), ('account_key', '163')])\n",
      "OrderedDict([('utc_date', datetime.datetime(2015, 7, 11, 0, 0)), ('registration_date', '2014-02-02'), ('subscription_start', '2015-07-09'), ('course_key', 'nd002'), ('sibling_key', 'nd002'), ('course_title', 'Data Analyst Nanodegree'), ('has_visited', 0), ('total_minutes_visited', 0.0), ('lessons_completed', 0), ('projects_completed', 0), ('account_key', '163')])\n",
      "OrderedDict([('utc_date', datetime.datetime(2015, 7, 11, 0, 0)), ('registration_date', '2014-02-02'), ('subscription_start', '2015-07-09'), ('course_key', 'ud804-nd'), ('sibling_key', 'ud804'), ('course_title', 'JavaScript Basics'), ('has_visited', 0), ('total_minutes_visited', 0.0), ('lessons_completed', 0), ('projects_completed', 0), ('account_key', '163')])\n",
      "OrderedDict([('utc_date', datetime.datetime(2015, 7, 11, 0, 0)), ('registration_date', '2014-02-02'), ('subscription_start', '2015-07-09'), ('course_key', 'ud032-nd'), ('sibling_key', 'ud032'), ('course_title', 'Data Wrangling with MongoDB'), ('has_visited', 0), ('total_minutes_visited', 0.0), ('lessons_completed', 0), ('projects_completed', 0), ('account_key', '163')])\n",
      "OrderedDict([('utc_date', datetime.datetime(2015, 7, 11, 0, 0)), ('registration_date', '2014-02-02'), ('subscription_start', '2015-07-09'), ('course_key', 'ud507-nd'), ('sibling_key', 'ud507'), ('course_title', 'Data Visualization and D3.js'), ('has_visited', 0), ('total_minutes_visited', 0.0), ('lessons_completed', 0), ('projects_completed', 0), ('account_key', '163')])\n",
      "OrderedDict([('utc_date', datetime.datetime(2015, 7, 11, 0, 0)), ('registration_date', '2014-02-02'), ('subscription_start', '2015-07-09'), ('course_key', 'ud651-nd'), ('sibling_key', 'ud651'), ('course_title', 'Data Analysis with R'), ('has_visited', 0), ('total_minutes_visited', 0.0), ('lessons_completed', 0), ('projects_completed', 0), ('account_key', '163')])\n",
      "OrderedDict([('utc_date', datetime.datetime(2015, 7, 11, 0, 0)), ('registration_date', '2014-02-02'), ('subscription_start', '2015-07-09'), ('course_key', 'ud304-nd'), ('sibling_key', 'ud304'), ('course_title', 'Intro to HTML and CSS'), ('has_visited', 0), ('total_minutes_visited', 0.0), ('lessons_completed', 0), ('projects_completed', 0), ('account_key', '163')])\n",
      "OrderedDict([('utc_date', datetime.datetime(2015, 7, 11, 0, 0)), ('registration_date', '2014-02-02'), ('subscription_start', '2015-07-09'), ('course_key', 'ud120-nd'), ('sibling_key', 'ud120'), ('course_title', 'Intro to Machine Learning'), ('has_visited', 0), ('total_minutes_visited', 0.0), ('lessons_completed', 0), ('projects_completed', 0), ('account_key', '163')])\n",
      "OrderedDict([('utc_date', datetime.datetime(2015, 7, 11, 0, 0)), ('registration_date', '2014-02-02'), ('subscription_start', '2015-07-09'), ('course_key', 'ud257-nd'), ('sibling_key', 'ud257'), ('course_title', 'A/B Testing'), ('has_visited', 0), ('total_minutes_visited', 0.0), ('lessons_completed', 0), ('projects_completed', 0), ('account_key', '163')])\n",
      "OrderedDict([('utc_date', datetime.datetime(2015, 7, 11, 0, 0)), ('registration_date', '2014-02-02'), ('subscription_start', '2015-07-09'), ('course_key', 'ud257'), ('sibling_key', 'ud257'), ('course_title', 'A/B Testing'), ('has_visited', 0), ('total_minutes_visited', 0.0), ('lessons_completed', 0), ('projects_completed', 0), ('account_key', '163')])\n",
      "OrderedDict([('utc_date', datetime.datetime(2015, 7, 11, 0, 0)), ('registration_date', '2014-02-02'), ('subscription_start', '2015-07-09'), ('course_key', 'ud120'), ('sibling_key', 'ud120'), ('course_title', 'Intro to Machine Learning'), ('has_visited', 0), ('total_minutes_visited', 0.0), ('lessons_completed', 0), ('projects_completed', 0), ('account_key', '163')])\n",
      "OrderedDict([('utc_date', datetime.datetime(2015, 7, 11, 0, 0)), ('registration_date', '2014-02-02'), ('subscription_start', '2015-07-09'), ('course_key', 'ud304'), ('sibling_key', 'ud304'), ('course_title', 'Intro to HTML and CSS'), ('has_visited', 0), ('total_minutes_visited', 0.0), ('lessons_completed', 0), ('projects_completed', 0), ('account_key', '163')])\n",
      "OrderedDict([('utc_date', datetime.datetime(2015, 7, 11, 0, 0)), ('registration_date', '2014-02-02'), ('subscription_start', '2015-07-09'), ('course_key', 'ud804'), ('sibling_key', 'ud804'), ('course_title', 'JavaScript Basics'), ('has_visited', 0), ('total_minutes_visited', 0.0), ('lessons_completed', 0), ('projects_completed', 0), ('account_key', '163')])\n",
      "OrderedDict([('utc_date', datetime.datetime(2015, 7, 11, 0, 0)), ('registration_date', '2014-02-02'), ('subscription_start', '2015-07-09'), ('course_key', 'ud359'), ('sibling_key', 'ud359'), ('course_title', 'Intro to Data Science'), ('has_visited', 0), ('total_minutes_visited', 0.0), ('lessons_completed', 0), ('projects_completed', 0), ('account_key', '163')])\n",
      "OrderedDict([('utc_date', datetime.datetime(2015, 7, 11, 0, 0)), ('registration_date', '2014-02-02'), ('subscription_start', '2015-07-09'), ('course_key', 'ud032'), ('sibling_key', 'ud032'), ('course_title', 'Data Wrangling with MongoDB'), ('has_visited', 0), ('total_minutes_visited', 0.0), ('lessons_completed', 0), ('projects_completed', 0), ('account_key', '163')])\n",
      "OrderedDict([('utc_date', datetime.datetime(2015, 7, 11, 0, 0)), ('registration_date', '2014-02-02'), ('subscription_start', '2015-07-09'), ('course_key', 'ud507'), ('sibling_key', 'ud507'), ('course_title', 'Data Visualization and D3.js'), ('has_visited', 0), ('total_minutes_visited', 0.0), ('lessons_completed', 0), ('projects_completed', 0), ('account_key', '163')])\n",
      "OrderedDict([('utc_date', datetime.datetime(2015, 7, 11, 0, 0)), ('registration_date', '2014-02-02'), ('subscription_start', '2015-07-09'), ('course_key', 'ud134-nd'), ('sibling_key', 'ud134'), ('course_title', 'ud134-nd'), ('has_visited', 0), ('total_minutes_visited', 0.0), ('lessons_completed', 0), ('projects_completed', 0), ('account_key', '163')])\n",
      "OrderedDict([('utc_date', datetime.datetime(2015, 7, 11, 0, 0)), ('registration_date', '2014-02-02'), ('subscription_start', '2015-07-09'), ('course_key', 'nd002'), ('sibling_key', 'nd002'), ('course_title', 'Data Analyst Nanodegree'), ('has_visited', 0), ('total_minutes_visited', 0.0), ('lessons_completed', 0), ('projects_completed', 0), ('account_key', '163')])\n",
      "OrderedDict([('utc_date', datetime.datetime(2015, 7, 11, 0, 0)), ('registration_date', '2014-02-02'), ('subscription_start', '2015-07-09'), ('course_key', 'ud651'), ('sibling_key', 'ud651'), ('course_title', 'Data Analysis with R'), ('has_visited', 0), ('total_minutes_visited', 0.0), ('lessons_completed', 0), ('projects_completed', 0), ('account_key', '163')])\n",
      "OrderedDict([('utc_date', datetime.datetime(2015, 7, 11, 0, 0)), ('registration_date', '2014-02-02'), ('subscription_start', '2015-07-09'), ('course_key', 'ud359-nd'), ('sibling_key', 'ud359'), ('course_title', 'Intro to Data Science'), ('has_visited', 1), ('total_minutes_visited', 388.509451833), ('lessons_completed', 3), ('projects_completed', 0), ('account_key', '163')])\n",
      "OrderedDict([('utc_date', datetime.datetime(2015, 7, 12, 0, 0)), ('registration_date', '2014-02-02'), ('subscription_start', '2015-07-09'), ('course_key', 'ud120-nd'), ('sibling_key', 'ud120'), ('course_title', 'Intro to Machine Learning'), ('has_visited', 0), ('total_minutes_visited', 0.0), ('lessons_completed', 0), ('projects_completed', 0), ('account_key', '163')])\n",
      "OrderedDict([('utc_date', datetime.datetime(2015, 7, 12, 0, 0)), ('registration_date', '2014-02-02'), ('subscription_start', '2015-07-09'), ('course_key', 'ud032-nd'), ('sibling_key', 'ud032'), ('course_title', 'Data Wrangling with MongoDB'), ('has_visited', 0), ('total_minutes_visited', 0.0), ('lessons_completed', 0), ('projects_completed', 0), ('account_key', '163')])\n",
      "OrderedDict([('utc_date', datetime.datetime(2015, 7, 12, 0, 0)), ('registration_date', '2014-02-02'), ('subscription_start', '2015-07-09'), ('course_key', 'ud651-nd'), ('sibling_key', 'ud651'), ('course_title', 'Data Analysis with R'), ('has_visited', 0), ('total_minutes_visited', 0.0), ('lessons_completed', 0), ('projects_completed', 0), ('account_key', '163')])\n",
      "OrderedDict([('utc_date', datetime.datetime(2015, 7, 12, 0, 0)), ('registration_date', '2014-02-02'), ('subscription_start', '2015-07-09'), ('course_key', 'ud804-nd'), ('sibling_key', 'ud804'), ('course_title', 'JavaScript Basics'), ('has_visited', 0), ('total_minutes_visited', 0.0), ('lessons_completed', 0), ('projects_completed', 0), ('account_key', '163')])\n",
      "OrderedDict([('utc_date', datetime.datetime(2015, 7, 12, 0, 0)), ('registration_date', '2014-02-02'), ('subscription_start', '2015-07-09'), ('course_key', 'ud304-nd'), ('sibling_key', 'ud304'), ('course_title', 'Intro to HTML and CSS'), ('has_visited', 0), ('total_minutes_visited', 0.0), ('lessons_completed', 0), ('projects_completed', 0), ('account_key', '163')])\n",
      "OrderedDict([('utc_date', datetime.datetime(2015, 7, 12, 0, 0)), ('registration_date', '2014-02-02'), ('subscription_start', '2015-07-09'), ('course_key', 'ud257-nd'), ('sibling_key', 'ud257'), ('course_title', 'A/B Testing'), ('has_visited', 0), ('total_minutes_visited', 0.0), ('lessons_completed', 0), ('projects_completed', 0), ('account_key', '163')])\n",
      "OrderedDict([('utc_date', datetime.datetime(2015, 7, 12, 0, 0)), ('registration_date', '2014-02-02'), ('subscription_start', '2015-07-09'), ('course_key', 'ud257'), ('sibling_key', 'ud257'), ('course_title', 'A/B Testing'), ('has_visited', 0), ('total_minutes_visited', 0.0), ('lessons_completed', 0), ('projects_completed', 0), ('account_key', '163')])\n",
      "OrderedDict([('utc_date', datetime.datetime(2015, 7, 12, 0, 0)), ('registration_date', '2014-02-02'), ('subscription_start', '2015-07-09'), ('course_key', 'ud507-nd'), ('sibling_key', 'ud507'), ('course_title', 'Data Visualization and D3.js'), ('has_visited', 0), ('total_minutes_visited', 0.0), ('lessons_completed', 0), ('projects_completed', 0), ('account_key', '163')])\n",
      "OrderedDict([('utc_date', datetime.datetime(2015, 7, 12, 0, 0)), ('registration_date', '2014-02-02'), ('subscription_start', '2015-07-09'), ('course_key', 'ud359-nd'), ('sibling_key', 'ud359'), ('course_title', 'Intro to Data Science'), ('has_visited', 1), ('total_minutes_visited', 294.568774), ('lessons_completed', 2), ('projects_completed', 0), ('account_key', '163')])\n",
      "OrderedDict([('utc_date', datetime.datetime(2015, 7, 12, 0, 0)), ('registration_date', '2014-02-02'), ('subscription_start', '2015-07-09'), ('course_key', 'ud120'), ('sibling_key', 'ud120'), ('course_title', 'Intro to Machine Learning'), ('has_visited', 0), ('total_minutes_visited', 0.0), ('lessons_completed', 0), ('projects_completed', 0), ('account_key', '163')])\n",
      "OrderedDict([('utc_date', datetime.datetime(2015, 7, 12, 0, 0)), ('registration_date', '2014-02-02'), ('subscription_start', '2015-07-09'), ('course_key', 'ud804'), ('sibling_key', 'ud804'), ('course_title', 'JavaScript Basics'), ('has_visited', 0), ('total_minutes_visited', 0.0), ('lessons_completed', 0), ('projects_completed', 0), ('account_key', '163')])\n",
      "OrderedDict([('utc_date', datetime.datetime(2015, 7, 12, 0, 0)), ('registration_date', '2014-02-02'), ('subscription_start', '2015-07-09'), ('course_key', 'ud359'), ('sibling_key', 'ud359'), ('course_title', 'Intro to Data Science'), ('has_visited', 0), ('total_minutes_visited', 0.0), ('lessons_completed', 0), ('projects_completed', 0), ('account_key', '163')])\n",
      "OrderedDict([('utc_date', datetime.datetime(2015, 7, 12, 0, 0)), ('registration_date', '2014-02-02'), ('subscription_start', '2015-07-09'), ('course_key', 'ud304'), ('sibling_key', 'ud304'), ('course_title', 'Intro to HTML and CSS'), ('has_visited', 0), ('total_minutes_visited', 0.0), ('lessons_completed', 0), ('projects_completed', 0), ('account_key', '163')])\n",
      "OrderedDict([('utc_date', datetime.datetime(2015, 7, 12, 0, 0)), ('registration_date', '2014-02-02'), ('subscription_start', '2015-07-09'), ('course_key', 'ud507'), ('sibling_key', 'ud507'), ('course_title', 'Data Visualization and D3.js'), ('has_visited', 0), ('total_minutes_visited', 0.0), ('lessons_completed', 0), ('projects_completed', 0), ('account_key', '163')])\n",
      "OrderedDict([('utc_date', datetime.datetime(2015, 7, 12, 0, 0)), ('registration_date', '2014-02-02'), ('subscription_start', '2015-07-09'), ('course_key', 'ud032'), ('sibling_key', 'ud032'), ('course_title', 'Data Wrangling with MongoDB'), ('has_visited', 0), ('total_minutes_visited', 0.0), ('lessons_completed', 0), ('projects_completed', 0), ('account_key', '163')])\n",
      "OrderedDict([('utc_date', datetime.datetime(2015, 7, 12, 0, 0)), ('registration_date', '2014-02-02'), ('subscription_start', '2015-07-09'), ('course_key', 'ud134-nd'), ('sibling_key', 'ud134'), ('course_title', 'ud134-nd'), ('has_visited', 0), ('total_minutes_visited', 0.0), ('lessons_completed', 0), ('projects_completed', 0), ('account_key', '163')])\n",
      "OrderedDict([('utc_date', datetime.datetime(2015, 7, 12, 0, 0)), ('registration_date', '2014-02-02'), ('subscription_start', '2015-07-09'), ('course_key', 'nd002'), ('sibling_key', 'nd002'), ('course_title', 'Data Analyst Nanodegree'), ('has_visited', 0), ('total_minutes_visited', 0.0), ('lessons_completed', 0), ('projects_completed', 0), ('account_key', '163')])\n",
      "OrderedDict([('utc_date', datetime.datetime(2015, 7, 12, 0, 0)), ('registration_date', '2014-02-02'), ('subscription_start', '2015-07-09'), ('course_key', 'ud651'), ('sibling_key', 'ud651'), ('course_title', 'Data Analysis with R'), ('has_visited', 0), ('total_minutes_visited', 0.0), ('lessons_completed', 0), ('projects_completed', 0), ('account_key', '163')])\n",
      "OrderedDict([('utc_date', datetime.datetime(2015, 7, 13, 0, 0)), ('registration_date', '2014-02-02'), ('subscription_start', '2015-07-09'), ('course_key', 'ud032-nd'), ('sibling_key', 'ud032'), ('course_title', 'Data Wrangling with MongoDB'), ('has_visited', 1), ('total_minutes_visited', 99.1050673333), ('lessons_completed', 0), ('projects_completed', 0), ('account_key', '163')])\n",
      "OrderedDict([('utc_date', datetime.datetime(2015, 7, 13, 0, 0)), ('registration_date', '2014-02-02'), ('subscription_start', '2015-07-09'), ('course_key', 'ud651-nd'), ('sibling_key', 'ud651'), ('course_title', 'Data Analysis with R'), ('has_visited', 0), ('total_minutes_visited', 0.0), ('lessons_completed', 0), ('projects_completed', 0), ('account_key', '163')])\n",
      "OrderedDict([('utc_date', datetime.datetime(2015, 7, 13, 0, 0)), ('registration_date', '2014-02-02'), ('subscription_start', '2015-07-09'), ('course_key', 'ud804-nd'), ('sibling_key', 'ud804'), ('course_title', 'JavaScript Basics'), ('has_visited', 0), ('total_minutes_visited', 0.0), ('lessons_completed', 0), ('projects_completed', 0), ('account_key', '163')])\n",
      "OrderedDict([('utc_date', datetime.datetime(2015, 7, 13, 0, 0)), ('registration_date', '2014-02-02'), ('subscription_start', '2015-07-09'), ('course_key', 'ud507-nd'), ('sibling_key', 'ud507'), ('course_title', 'Data Visualization and D3.js'), ('has_visited', 0), ('total_minutes_visited', 0.0), ('lessons_completed', 0), ('projects_completed', 0), ('account_key', '163')])\n",
      "OrderedDict([('utc_date', datetime.datetime(2015, 7, 13, 0, 0)), ('registration_date', '2014-02-02'), ('subscription_start', '2015-07-09'), ('course_key', 'ud120-nd'), ('sibling_key', 'ud120'), ('course_title', 'Intro to Machine Learning'), ('has_visited', 0), ('total_minutes_visited', 0.0), ('lessons_completed', 0), ('projects_completed', 0), ('account_key', '163')])\n",
      "OrderedDict([('utc_date', datetime.datetime(2015, 7, 13, 0, 0)), ('registration_date', '2014-02-02'), ('subscription_start', '2015-07-09'), ('course_key', 'ud304-nd'), ('sibling_key', 'ud304'), ('course_title', 'Intro to HTML and CSS'), ('has_visited', 0), ('total_minutes_visited', 0.0), ('lessons_completed', 0), ('projects_completed', 0), ('account_key', '163')])\n",
      "OrderedDict([('utc_date', datetime.datetime(2015, 7, 13, 0, 0)), ('registration_date', '2014-02-02'), ('subscription_start', '2015-07-09'), ('course_key', 'ud257-nd'), ('sibling_key', 'ud257'), ('course_title', 'A/B Testing'), ('has_visited', 0), ('total_minutes_visited', 0.0), ('lessons_completed', 0), ('projects_completed', 0), ('account_key', '163')])\n",
      "OrderedDict([('utc_date', datetime.datetime(2015, 7, 13, 0, 0)), ('registration_date', '2014-02-02'), ('subscription_start', '2015-07-09'), ('course_key', 'ud804'), ('sibling_key', 'ud804'), ('course_title', 'JavaScript Basics'), ('has_visited', 0), ('total_minutes_visited', 0.0), ('lessons_completed', 0), ('projects_completed', 0), ('account_key', '163')])\n",
      "OrderedDict([('utc_date', datetime.datetime(2015, 7, 13, 0, 0)), ('registration_date', '2014-02-02'), ('subscription_start', '2015-07-09'), ('course_key', 'ud032'), ('sibling_key', 'ud032'), ('course_title', 'Data Wrangling with MongoDB'), ('has_visited', 0), ('total_minutes_visited', 0.0), ('lessons_completed', 0), ('projects_completed', 0), ('account_key', '163')])\n",
      "OrderedDict([('utc_date', datetime.datetime(2015, 7, 13, 0, 0)), ('registration_date', '2014-02-02'), ('subscription_start', '2015-07-09'), ('course_key', 'ud120'), ('sibling_key', 'ud120'), ('course_title', 'Intro to Machine Learning'), ('has_visited', 0), ('total_minutes_visited', 0.0), ('lessons_completed', 0), ('projects_completed', 0), ('account_key', '163')])\n",
      "OrderedDict([('utc_date', datetime.datetime(2015, 7, 13, 0, 0)), ('registration_date', '2014-02-02'), ('subscription_start', '2015-07-09'), ('course_key', 'ud359'), ('sibling_key', 'ud359'), ('course_title', 'Intro to Data Science'), ('has_visited', 0), ('total_minutes_visited', 0.0), ('lessons_completed', 0), ('projects_completed', 0), ('account_key', '163')])\n",
      "OrderedDict([('utc_date', datetime.datetime(2015, 7, 13, 0, 0)), ('registration_date', '2014-02-02'), ('subscription_start', '2015-07-09'), ('course_key', 'ud507'), ('sibling_key', 'ud507'), ('course_title', 'Data Visualization and D3.js'), ('has_visited', 0), ('total_minutes_visited', 0.0), ('lessons_completed', 0), ('projects_completed', 0), ('account_key', '163')])\n",
      "OrderedDict([('utc_date', datetime.datetime(2015, 7, 13, 0, 0)), ('registration_date', '2014-02-02'), ('subscription_start', '2015-07-09'), ('course_key', 'ud257'), ('sibling_key', 'ud257'), ('course_title', 'A/B Testing'), ('has_visited', 0), ('total_minutes_visited', 0.0), ('lessons_completed', 0), ('projects_completed', 0), ('account_key', '163')])\n",
      "OrderedDict([('utc_date', datetime.datetime(2015, 7, 13, 0, 0)), ('registration_date', '2014-02-02'), ('subscription_start', '2015-07-09'), ('course_key', 'ud304'), ('sibling_key', 'ud304'), ('course_title', 'Intro to HTML and CSS'), ('has_visited', 0), ('total_minutes_visited', 0.0), ('lessons_completed', 0), ('projects_completed', 0), ('account_key', '163')])\n",
      "OrderedDict([('utc_date', datetime.datetime(2015, 7, 13, 0, 0)), ('registration_date', '2014-02-02'), ('subscription_start', '2015-07-09'), ('course_key', 'ud651'), ('sibling_key', 'ud651'), ('course_title', 'Data Analysis with R'), ('has_visited', 0), ('total_minutes_visited', 0.0), ('lessons_completed', 0), ('projects_completed', 0), ('account_key', '163')])\n",
      "OrderedDict([('utc_date', datetime.datetime(2015, 7, 13, 0, 0)), ('registration_date', '2014-02-02'), ('subscription_start', '2015-07-09'), ('course_key', 'ud134-nd'), ('sibling_key', 'ud134'), ('course_title', 'ud134-nd'), ('has_visited', 0), ('total_minutes_visited', 0.0), ('lessons_completed', 0), ('projects_completed', 0), ('account_key', '163')])\n",
      "OrderedDict([('utc_date', datetime.datetime(2015, 7, 13, 0, 0)), ('registration_date', '2014-02-02'), ('subscription_start', '2015-07-09'), ('course_key', 'nd002'), ('sibling_key', 'nd002'), ('course_title', 'Data Analyst Nanodegree'), ('has_visited', 1), ('total_minutes_visited', 2.22060233333), ('lessons_completed', 0), ('projects_completed', 0), ('account_key', '163')])\n",
      "OrderedDict([('utc_date', datetime.datetime(2015, 7, 13, 0, 0)), ('registration_date', '2014-02-02'), ('subscription_start', '2015-07-09'), ('course_key', 'ud359-nd'), ('sibling_key', 'ud359'), ('course_title', 'Intro to Data Science'), ('has_visited', 1), ('total_minutes_visited', 369.888308833), ('lessons_completed', 1), ('projects_completed', 0), ('account_key', '163')])\n",
      "OrderedDict([('utc_date', datetime.datetime(2015, 7, 14, 0, 0)), ('registration_date', '2014-02-02'), ('subscription_start', '2015-07-09'), ('course_key', 'ud032-nd'), ('sibling_key', 'ud032'), ('course_title', 'Data Wrangling with MongoDB'), ('has_visited', 1), ('total_minutes_visited', 90.3202453333), ('lessons_completed', 1), ('projects_completed', 0), ('account_key', '163')])\n",
      "OrderedDict([('utc_date', datetime.datetime(2015, 7, 14, 0, 0)), ('registration_date', '2014-02-02'), ('subscription_start', '2015-07-09'), ('course_key', 'ud651-nd'), ('sibling_key', 'ud651'), ('course_title', 'Data Analysis with R'), ('has_visited', 0), ('total_minutes_visited', 0.0), ('lessons_completed', 0), ('projects_completed', 0), ('account_key', '163')])\n",
      "OrderedDict([('utc_date', datetime.datetime(2015, 7, 14, 0, 0)), ('registration_date', '2014-02-02'), ('subscription_start', '2015-07-09'), ('course_key', 'ud507-nd'), ('sibling_key', 'ud507'), ('course_title', 'Data Visualization and D3.js'), ('has_visited', 0), ('total_minutes_visited', 0.0), ('lessons_completed', 0), ('projects_completed', 0), ('account_key', '163')])\n",
      "OrderedDict([('utc_date', datetime.datetime(2015, 7, 14, 0, 0)), ('registration_date', '2014-02-02'), ('subscription_start', '2015-07-09'), ('course_key', 'ud804-nd'), ('sibling_key', 'ud804'), ('course_title', 'JavaScript Basics'), ('has_visited', 0), ('total_minutes_visited', 0.0), ('lessons_completed', 0), ('projects_completed', 0), ('account_key', '163')])\n",
      "OrderedDict([('utc_date', datetime.datetime(2015, 7, 14, 0, 0)), ('registration_date', '2014-02-02'), ('subscription_start', '2015-07-09'), ('course_key', 'ud120-nd'), ('sibling_key', 'ud120'), ('course_title', 'Intro to Machine Learning'), ('has_visited', 0), ('total_minutes_visited', 0.0), ('lessons_completed', 0), ('projects_completed', 0), ('account_key', '163')])\n",
      "OrderedDict([('utc_date', datetime.datetime(2015, 7, 14, 0, 0)), ('registration_date', '2014-02-02'), ('subscription_start', '2015-07-09'), ('course_key', 'ud304-nd'), ('sibling_key', 'ud304'), ('course_title', 'Intro to HTML and CSS'), ('has_visited', 0), ('total_minutes_visited', 0.0), ('lessons_completed', 0), ('projects_completed', 0), ('account_key', '163')])\n",
      "OrderedDict([('utc_date', datetime.datetime(2015, 7, 14, 0, 0)), ('registration_date', '2014-02-02'), ('subscription_start', '2015-07-09'), ('course_key', 'ud257-nd'), ('sibling_key', 'ud257'), ('course_title', 'A/B Testing'), ('has_visited', 0), ('total_minutes_visited', 0.0), ('lessons_completed', 0), ('projects_completed', 0), ('account_key', '163')])\n",
      "OrderedDict([('utc_date', datetime.datetime(2015, 7, 14, 0, 0)), ('registration_date', '2014-02-02'), ('subscription_start', '2015-07-09'), ('course_key', 'ud804'), ('sibling_key', 'ud804'), ('course_title', 'JavaScript Basics'), ('has_visited', 0), ('total_minutes_visited', 0.0), ('lessons_completed', 0), ('projects_completed', 0), ('account_key', '163')])\n",
      "OrderedDict([('utc_date', datetime.datetime(2015, 7, 14, 0, 0)), ('registration_date', '2014-02-02'), ('subscription_start', '2015-07-09'), ('course_key', 'ud032'), ('sibling_key', 'ud032'), ('course_title', 'Data Wrangling with MongoDB'), ('has_visited', 0), ('total_minutes_visited', 0.0), ('lessons_completed', 0), ('projects_completed', 0), ('account_key', '163')])\n",
      "OrderedDict([('utc_date', datetime.datetime(2015, 7, 14, 0, 0)), ('registration_date', '2014-02-02'), ('subscription_start', '2015-07-09'), ('course_key', 'ud304'), ('sibling_key', 'ud304'), ('course_title', 'Intro to HTML and CSS'), ('has_visited', 0), ('total_minutes_visited', 0.0), ('lessons_completed', 0), ('projects_completed', 0), ('account_key', '163')])\n",
      "OrderedDict([('utc_date', datetime.datetime(2015, 7, 14, 0, 0)), ('registration_date', '2014-02-02'), ('subscription_start', '2015-07-09'), ('course_key', 'ud507'), ('sibling_key', 'ud507'), ('course_title', 'Data Visualization and D3.js'), ('has_visited', 0), ('total_minutes_visited', 0.0), ('lessons_completed', 0), ('projects_completed', 0), ('account_key', '163')])\n",
      "OrderedDict([('utc_date', datetime.datetime(2015, 7, 14, 0, 0)), ('registration_date', '2014-02-02'), ('subscription_start', '2015-07-09'), ('course_key', 'ud120'), ('sibling_key', 'ud120'), ('course_title', 'Intro to Machine Learning'), ('has_visited', 0), ('total_minutes_visited', 0.0), ('lessons_completed', 0), ('projects_completed', 0), ('account_key', '163')])\n",
      "OrderedDict([('utc_date', datetime.datetime(2015, 7, 14, 0, 0)), ('registration_date', '2014-02-02'), ('subscription_start', '2015-07-09'), ('course_key', 'ud651'), ('sibling_key', 'ud651'), ('course_title', 'Data Analysis with R'), ('has_visited', 0), ('total_minutes_visited', 0.0), ('lessons_completed', 0), ('projects_completed', 0), ('account_key', '163')])\n",
      "OrderedDict([('utc_date', datetime.datetime(2015, 7, 14, 0, 0)), ('registration_date', '2014-02-02'), ('subscription_start', '2015-07-09'), ('course_key', 'ud257'), ('sibling_key', 'ud257'), ('course_title', 'A/B Testing'), ('has_visited', 0), ('total_minutes_visited', 0.0), ('lessons_completed', 0), ('projects_completed', 0), ('account_key', '163')])\n",
      "OrderedDict([('utc_date', datetime.datetime(2015, 7, 14, 0, 0)), ('registration_date', '2014-02-02'), ('subscription_start', '2015-07-09'), ('course_key', 'ud359'), ('sibling_key', 'ud359'), ('course_title', 'Intro to Data Science'), ('has_visited', 0), ('total_minutes_visited', 0.0), ('lessons_completed', 0), ('projects_completed', 0), ('account_key', '163')])\n",
      "OrderedDict([('utc_date', datetime.datetime(2015, 7, 14, 0, 0)), ('registration_date', '2014-02-02'), ('subscription_start', '2015-07-09'), ('course_key', 'ud134-nd'), ('sibling_key', 'ud134'), ('course_title', 'ud134-nd'), ('has_visited', 0), ('total_minutes_visited', 0.0), ('lessons_completed', 0), ('projects_completed', 0), ('account_key', '163')])\n",
      "OrderedDict([('utc_date', datetime.datetime(2015, 7, 14, 0, 0)), ('registration_date', '2014-02-02'), ('subscription_start', '2015-07-09'), ('course_key', 'ud359-nd'), ('sibling_key', 'ud359'), ('course_title', 'Intro to Data Science'), ('has_visited', 1), ('total_minutes_visited', 208.4581), ('lessons_completed', 0), ('projects_completed', 0), ('account_key', '163')])\n",
      "OrderedDict([('utc_date', datetime.datetime(2015, 7, 14, 0, 0)), ('registration_date', '2014-02-02'), ('subscription_start', '2015-07-09'), ('course_key', 'nd002'), ('sibling_key', 'nd002'), ('course_title', 'Data Analyst Nanodegree'), ('has_visited', 0), ('total_minutes_visited', 0.0), ('lessons_completed', 0), ('projects_completed', 0), ('account_key', '163')])\n",
      "OrderedDict([('utc_date', datetime.datetime(2015, 7, 15, 0, 0)), ('registration_date', '2014-02-02'), ('subscription_start', '2015-07-09'), ('course_key', 'ud651-nd'), ('sibling_key', 'ud651'), ('course_title', 'Data Analysis with R'), ('has_visited', 0), ('total_minutes_visited', 0.0), ('lessons_completed', 0), ('projects_completed', 0), ('account_key', '163')])\n",
      "OrderedDict([('utc_date', datetime.datetime(2015, 7, 15, 0, 0)), ('registration_date', '2014-02-02'), ('subscription_start', '2015-07-09'), ('course_key', 'ud507-nd'), ('sibling_key', 'ud507'), ('course_title', 'Data Visualization and D3.js'), ('has_visited', 0), ('total_minutes_visited', 0.0), ('lessons_completed', 0), ('projects_completed', 0), ('account_key', '163')])\n",
      "OrderedDict([('utc_date', datetime.datetime(2015, 7, 15, 0, 0)), ('registration_date', '2014-02-02'), ('subscription_start', '2015-07-09'), ('course_key', 'ud804-nd'), ('sibling_key', 'ud804'), ('course_title', 'JavaScript Basics'), ('has_visited', 0), ('total_minutes_visited', 0.0), ('lessons_completed', 0), ('projects_completed', 0), ('account_key', '163')])\n",
      "OrderedDict([('utc_date', datetime.datetime(2015, 7, 15, 0, 0)), ('registration_date', '2014-02-02'), ('subscription_start', '2015-07-09'), ('course_key', 'ud304-nd'), ('sibling_key', 'ud304'), ('course_title', 'Intro to HTML and CSS'), ('has_visited', 0), ('total_minutes_visited', 0.0), ('lessons_completed', 0), ('projects_completed', 0), ('account_key', '163')])\n",
      "OrderedDict([('utc_date', datetime.datetime(2015, 7, 15, 0, 0)), ('registration_date', '2014-02-02'), ('subscription_start', '2015-07-09'), ('course_key', 'ud120-nd'), ('sibling_key', 'ud120'), ('course_title', 'Intro to Machine Learning'), ('has_visited', 0), ('total_minutes_visited', 0.0), ('lessons_completed', 0), ('projects_completed', 0), ('account_key', '163')])\n",
      "OrderedDict([('utc_date', datetime.datetime(2015, 7, 15, 0, 0)), ('registration_date', '2014-02-02'), ('subscription_start', '2015-07-09'), ('course_key', 'ud032-nd'), ('sibling_key', 'ud032'), ('course_title', 'Data Wrangling with MongoDB'), ('has_visited', 0), ('total_minutes_visited', 0.0), ('lessons_completed', 0), ('projects_completed', 0), ('account_key', '163')])\n",
      "OrderedDict([('utc_date', datetime.datetime(2015, 7, 15, 0, 0)), ('registration_date', '2014-02-02'), ('subscription_start', '2015-07-09'), ('course_key', 'ud120'), ('sibling_key', 'ud120'), ('course_title', 'Intro to Machine Learning'), ('has_visited', 0), ('total_minutes_visited', 0.0), ('lessons_completed', 0), ('projects_completed', 0), ('account_key', '163')])\n",
      "OrderedDict([('utc_date', datetime.datetime(2015, 7, 15, 0, 0)), ('registration_date', '2014-02-02'), ('subscription_start', '2015-07-09'), ('course_key', 'ud257-nd'), ('sibling_key', 'ud257'), ('course_title', 'A/B Testing'), ('has_visited', 0), ('total_minutes_visited', 0.0), ('lessons_completed', 0), ('projects_completed', 0), ('account_key', '163')])\n",
      "OrderedDict([('utc_date', datetime.datetime(2015, 7, 15, 0, 0)), ('registration_date', '2014-02-02'), ('subscription_start', '2015-07-09'), ('course_key', 'ud257'), ('sibling_key', 'ud257'), ('course_title', 'A/B Testing'), ('has_visited', 0), ('total_minutes_visited', 0.0), ('lessons_completed', 0), ('projects_completed', 0), ('account_key', '163')])\n",
      "OrderedDict([('utc_date', datetime.datetime(2015, 7, 15, 0, 0)), ('registration_date', '2014-02-02'), ('subscription_start', '2015-07-09'), ('course_key', 'ud304'), ('sibling_key', 'ud304'), ('course_title', 'Intro to HTML and CSS'), ('has_visited', 0), ('total_minutes_visited', 0.0), ('lessons_completed', 0), ('projects_completed', 0), ('account_key', '163')])\n",
      "OrderedDict([('utc_date', datetime.datetime(2015, 7, 15, 0, 0)), ('registration_date', '2014-02-02'), ('subscription_start', '2015-07-09'), ('course_key', 'ud804'), ('sibling_key', 'ud804'), ('course_title', 'JavaScript Basics'), ('has_visited', 0), ('total_minutes_visited', 0.0), ('lessons_completed', 0), ('projects_completed', 0), ('account_key', '163')])\n",
      "OrderedDict([('utc_date', datetime.datetime(2015, 7, 15, 0, 0)), ('registration_date', '2014-02-02'), ('subscription_start', '2015-07-09'), ('course_key', 'ud359'), ('sibling_key', 'ud359'), ('course_title', 'Intro to Data Science'), ('has_visited', 0), ('total_minutes_visited', 0.0), ('lessons_completed', 0), ('projects_completed', 0), ('account_key', '163')])\n",
      "OrderedDict([('utc_date', datetime.datetime(2015, 7, 15, 0, 0)), ('registration_date', '2014-02-02'), ('subscription_start', '2015-07-09'), ('course_key', 'ud507'), ('sibling_key', 'ud507'), ('course_title', 'Data Visualization and D3.js'), ('has_visited', 0), ('total_minutes_visited', 0.0), ('lessons_completed', 0), ('projects_completed', 0), ('account_key', '163')])\n",
      "OrderedDict([('utc_date', datetime.datetime(2015, 7, 15, 0, 0)), ('registration_date', '2014-02-02'), ('subscription_start', '2015-07-09'), ('course_key', 'ud032'), ('sibling_key', 'ud032'), ('course_title', 'Data Wrangling with MongoDB'), ('has_visited', 0), ('total_minutes_visited', 0.0), ('lessons_completed', 0), ('projects_completed', 0), ('account_key', '163')])\n",
      "OrderedDict([('utc_date', datetime.datetime(2015, 7, 15, 0, 0)), ('registration_date', '2014-02-02'), ('subscription_start', '2015-07-09'), ('course_key', 'ud134-nd'), ('sibling_key', 'ud134'), ('course_title', 'ud134-nd'), ('has_visited', 0), ('total_minutes_visited', 0.0), ('lessons_completed', 0), ('projects_completed', 0), ('account_key', '163')])\n",
      "OrderedDict([('utc_date', datetime.datetime(2015, 7, 15, 0, 0)), ('registration_date', '2014-02-02'), ('subscription_start', '2015-07-09'), ('course_key', 'nd002'), ('sibling_key', 'nd002'), ('course_title', 'Data Analyst Nanodegree'), ('has_visited', 0), ('total_minutes_visited', 0.0), ('lessons_completed', 0), ('projects_completed', 0), ('account_key', '163')])\n",
      "OrderedDict([('utc_date', datetime.datetime(2015, 7, 15, 0, 0)), ('registration_date', '2014-02-02'), ('subscription_start', '2015-07-09'), ('course_key', 'ud651'), ('sibling_key', 'ud651'), ('course_title', 'Data Analysis with R'), ('has_visited', 0), ('total_minutes_visited', 0.0), ('lessons_completed', 0), ('projects_completed', 0), ('account_key', '163')])\n",
      "OrderedDict([('utc_date', datetime.datetime(2015, 7, 15, 0, 0)), ('registration_date', '2014-02-02'), ('subscription_start', '2015-07-09'), ('course_key', 'ud359-nd'), ('sibling_key', 'ud359'), ('course_title', 'Intro to Data Science'), ('has_visited', 0), ('total_minutes_visited', 0.0), ('lessons_completed', 0), ('projects_completed', 0), ('account_key', '163')])\n"
     ]
    }
   ],
   "source": [
    "for engagement_record in paid_engagement_in_first_week:\n",
    "    if engagement_record['account_key'] == student_with_max_minutes:\n",
    "        print(engagement_record)"
   ]
  },
  {
   "cell_type": "markdown",
   "metadata": {},
   "source": [
    "## Lessons Completed in First Week"
   ]
  },
  {
   "cell_type": "code",
   "execution_count": 37,
   "metadata": {},
   "outputs": [],
   "source": [
    "from collections import defaultdict\n",
    "\n",
    "def group_data(data, key_name):\n",
    "    grouped_data = defaultdict(list)\n",
    "    for data_point in data:\n",
    "        key = data_point[key_name]\n",
    "        grouped_data[key].append(data_point)\n",
    "    return grouped_data\n",
    "        \n",
    "\n",
    "engagement_by_account = group_data(paid_engagement_in_first_week, 'account_key')\n",
    "    "
   ]
  },
  {
   "cell_type": "code",
   "execution_count": 38,
   "metadata": {},
   "outputs": [],
   "source": [
    "def sum_group_items(grouped_data, field_name):\n",
    "    summed_data = {}\n",
    "    \n",
    "    for key, data_points in grouped_data.items():\n",
    "        total = 0\n",
    "        for data_point in data_points:\n",
    "            total += data_point[field_name]\n",
    "        summed_data[key] = total\n",
    "        \n",
    "    return summed_data\n",
    "\n",
    "total_minutes_by_account = sum_group_items(engagement_by_account, 'total_minutes_visited')\n"
   ]
  },
  {
   "cell_type": "code",
   "execution_count": 39,
   "metadata": {},
   "outputs": [
    {
     "name": "stdout",
     "output_type": "stream",
     "text": [
      "Mean: 306.7083267534287\n",
      "Standard deviation: 413.2046261213701\n",
      "Minimum: 0.0\n",
      "Maximum: 3564.73326449893\n"
     ]
    }
   ],
   "source": [
    "import statistics as stat\n",
    "\n",
    "def describe_data(data): \n",
    "    print('Mean:', stat.mean(data))\n",
    "    print('Standard deviation:', stat.stdev(data))\n",
    "    print('Minimum:', min(data))\n",
    "    print('Maximum:', max(data))\n",
    "          \n",
    "total_minutes = total_minutes_by_account.values()\n",
    "describe_data(total_minutes)"
   ]
  },
  {
   "cell_type": "code",
   "execution_count": 40,
   "metadata": {},
   "outputs": [
    {
     "name": "stdout",
     "output_type": "stream",
     "text": [
      "Mean: 1.636180904522613\n",
      "Standard deviation: 3.0040712628616673\n",
      "Minimum: 0\n",
      "Maximum: 36\n"
     ]
    }
   ],
   "source": [
    "#####################################\n",
    "#                 9                 #\n",
    "#####################################\n",
    "\n",
    "## Adapt the code above to find the mean, standard deviation, minimum, and maximum for\n",
    "## the number of lessons completed by each student during the first week. Try creating\n",
    "## one or more functions to re-use the code above.\n",
    "\n",
    "lessons_completed_by_account = sum_group_items(engagement_by_account, 'lessons_completed')\n",
    "describe_data(lessons_completed_by_account.values())\n"
   ]
  },
  {
   "cell_type": "markdown",
   "metadata": {},
   "source": [
    "## Number of Visits in First Week"
   ]
  },
  {
   "cell_type": "code",
   "execution_count": 41,
   "metadata": {},
   "outputs": [
    {
     "name": "stdout",
     "output_type": "stream",
     "text": [
      "Mean: 3.978894472361809\n",
      "Standard deviation: 3.593051194351534\n",
      "Minimum: 0\n",
      "Maximum: 25\n"
     ]
    }
   ],
   "source": [
    "######################################\n",
    "#                 10                 #\n",
    "######################################\n",
    "\n",
    "## Find the mean, standard deviation, minimum, and maximum for the number of\n",
    "## days each student visits the classroom during the first week.\n",
    "days_visited_by_account = sum_group_items(engagement_by_account, 'has_visited')\n",
    "\n",
    "describe_data(days_visited_by_account.values())\n"
   ]
  },
  {
   "cell_type": "markdown",
   "metadata": {},
   "source": [
    "## Splitting out Passing Students"
   ]
  },
  {
   "cell_type": "code",
   "execution_count": 42,
   "metadata": {},
   "outputs": [
    {
     "data": {
      "text/plain": [
       "647"
      ]
     },
     "execution_count": 42,
     "metadata": {},
     "output_type": "execute_result"
    }
   ],
   "source": [
    "subway_project_lesson_keys = ['746169184', '3176718735']\n",
    "\n",
    "\n",
    "pass_subway_project = set()\n",
    "\n",
    "for submission in paid_submissions:\n",
    "    project = submission['lesson_key']\n",
    "    rating = submission['assigned_rating']\n",
    "     \n",
    "    if project in subway_project_lesson_keys and (rating == 'PASSED' or rating == 'DISTINCTION'):\n",
    "        pass_subway_project.add(submission['account_key'])\n",
    "\n",
    "len(pass_subway_project) "
   ]
  },
  {
   "cell_type": "code",
   "execution_count": 43,
   "metadata": {},
   "outputs": [
    {
     "name": "stdout",
     "output_type": "stream",
     "text": [
      "73263\n",
      "40010\n"
     ]
    }
   ],
   "source": [
    "######################################\n",
    "#                 11                 #\n",
    "######################################\n",
    "\n",
    "## Create two lists of engagement data for paid students in the first week.\n",
    "## The first list should contain data for students who eventually pass the\n",
    "## subway project, and the second list should contain data for students\n",
    "## who do not.\n",
    "\n",
    "\n",
    "passing_engagement = []\n",
    "non_passing_engagement = []\n",
    "\n",
    "for engagement_record in paid_engagement_in_first_week:\n",
    "    if engagement_record['account_key'] in pass_subway_project:\n",
    "        passing_engagement.append(engagement_record)\n",
    "    else:\n",
    "        non_passing_engagement.append(engagement_record)\n",
    "        \n",
    "print(len(passing_engagement))\n",
    "print(len(non_passing_engagement))\n"
   ]
  },
  {
   "cell_type": "markdown",
   "metadata": {},
   "source": [
    "## Comparing the Two Student Groups"
   ]
  },
  {
   "cell_type": "code",
   "execution_count": 44,
   "metadata": {},
   "outputs": [
    {
     "name": "stdout",
     "output_type": "stream",
     "text": [
      "non-passing Students:  Minutes spent\n",
      "Mean: 143.32647426676493\n",
      "Standard deviation: 269.9267237755391\n",
      "Minimum: 0.0\n",
      "Maximum: 1768.52274933203\n"
     ]
    }
   ],
   "source": [
    "######################################\n",
    "#                 12                 #\n",
    "######################################\n",
    "\n",
    "## Compute some metrics you're interested in and see how they differ for\n",
    "## students who pass the subway project vs. students who don't. A good\n",
    "## starting point would be the metrics we looked at earlier (minutes spent\n",
    "## in the classroom, lessons completed, and days visited).\n",
    "\n",
    "\n",
    "passing_engagement_by_account = group_data(passing_engagement, 'account_key')\n",
    "\n",
    "non_passing_engagement_by_account = group_data(non_passing_engagement, 'account_key')\n",
    "\n",
    "print('non-passing Students:  Minutes spent')\n",
    "non_passing_minutes = sum_group_items(non_passing_engagement_by_account, 'total_minutes_visited')\n",
    "describe_data(non_passing_minutes.values())\n",
    "\n"
   ]
  },
  {
   "cell_type": "code",
   "execution_count": 45,
   "metadata": {},
   "outputs": [
    {
     "name": "stdout",
     "output_type": "stream",
     "text": [
      "passing Students:  Minutes Spent\n",
      "Mean: 394.5860464835044\n",
      "Standard deviation: 448.84652094077865\n",
      "Minimum: 0.0\n",
      "Maximum: 3564.73326449893\n"
     ]
    }
   ],
   "source": [
    "print('passing Students:  Minutes Spent')\n",
    "passing_minutes = sum_group_items(passing_engagement_by_account, 'total_minutes_visited')\n",
    "describe_data(passing_minutes.values())\n"
   ]
  },
  {
   "cell_type": "code",
   "execution_count": 46,
   "metadata": {},
   "outputs": [
    {
     "name": "stdout",
     "output_type": "stream",
     "text": [
      "non-passing Students:  Lessons Completed in a Week\n",
      "Mean: 0.8620689655172413\n",
      "Standard deviation: 2.55283044040882\n",
      "Minimum: 0\n",
      "Maximum: 27\n"
     ]
    }
   ],
   "source": [
    "print('non-passing Students:  Lessons Completed in a Week')\n",
    "non_passing_lessons = sum_group_items(non_passing_engagement_by_account, 'lessons_completed')\n",
    "describe_data(non_passing_lessons.values())"
   ]
  },
  {
   "cell_type": "code",
   "execution_count": 47,
   "metadata": {},
   "outputs": [
    {
     "name": "stdout",
     "output_type": "stream",
     "text": [
      "passing Students:  Lessons Completed in a Week\n",
      "Mean: 2.052550231839258\n",
      "Standard deviation: 3.144658179388869\n",
      "Minimum: 0\n",
      "Maximum: 36\n"
     ]
    }
   ],
   "source": [
    "print('passing Students:  Lessons Completed in a Week')\n",
    "passing_lessons = sum_group_items(passing_engagement_by_account, 'lessons_completed')\n",
    "describe_data(passing_lessons.values())"
   ]
  },
  {
   "cell_type": "code",
   "execution_count": 48,
   "metadata": {},
   "outputs": [
    {
     "name": "stdout",
     "output_type": "stream",
     "text": [
      "non-passing Students:  Has Visited\n",
      "Mean: 2.589080459770115\n",
      "Standard deviation: 2.910895019548664\n",
      "Minimum: 0\n",
      "Maximum: 18\n"
     ]
    }
   ],
   "source": [
    "print('non-passing Students:  Has Visited')\n",
    "non_passing_visits = sum_group_items(non_passing_engagement_by_account, 'has_visited')\n",
    "describe_data(non_passing_visits.values())"
   ]
  },
  {
   "cell_type": "code",
   "execution_count": 49,
   "metadata": {},
   "outputs": [
    {
     "name": "stdout",
     "output_type": "stream",
     "text": [
      "npassing Students:  Has Visited\n",
      "Mean: 4.726429675425039\n",
      "Standard deviation: 3.703102634493782\n",
      "Minimum: 0\n",
      "Maximum: 25\n"
     ]
    }
   ],
   "source": [
    "print('npassing Students:  Has Visited')\n",
    "passing_visits = sum_group_items(passing_engagement_by_account, 'has_visited')\n",
    "describe_data(passing_visits.values())"
   ]
  },
  {
   "cell_type": "markdown",
   "metadata": {},
   "source": [
    "## Making Histograms"
   ]
  },
  {
   "cell_type": "code",
   "execution_count": 50,
   "metadata": {},
   "outputs": [
    {
     "data": {
      "text/plain": [
       "(array([3., 0., 0., 2., 0., 0., 2., 0., 0., 1.]),\n",
       " array([1. , 1.3, 1.6, 1.9, 2.2, 2.5, 2.8, 3.1, 3.4, 3.7, 4. ]),\n",
       " <BarContainer object of 10 artists>)"
      ]
     },
     "execution_count": 50,
     "metadata": {},
     "output_type": "execute_result"
    },
    {
     "data": {
      "image/png": "[encoded data removed]",
      "text/plain": [
       "<Figure size 432x288 with 1 Axes>"
      ]
     },
     "metadata": {
      "needs_background": "light"
     },
     "output_type": "display_data"
    }
   ],
   "source": [
    "'''\n",
    "example histogram\n",
    "'''\n",
    "\n",
    "data = [1, 2, 1, 3, 3, 1, 4, 2]\n",
    "\n",
    "%matplotlib inline\n",
    "import matplotlib.pyplot as plt\n",
    "plt.hist(data)"
   ]
  },
  {
   "cell_type": "code",
   "execution_count": 51,
   "metadata": {},
   "outputs": [],
   "source": [
    "######################################\n",
    "#                 13                 #\n",
    "######################################\n",
    "\n",
    "## Make histograms of the three metrics we looked at earlier for both\n",
    "## students who passed the subway project and students who didn't. You\n",
    "## might also want to make histograms of any other metrics you examined."
   ]
  },
  {
   "cell_type": "code",
   "execution_count": 52,
   "metadata": {},
   "outputs": [
    {
     "data": {
      "text/plain": [
       "(array([370., 155.,  83.,  19.,  10.,   4.,   2.,   3.,   0.,   1.]),\n",
       " array([   0.        ,  356.47332645,  712.9466529 , 1069.41997935,\n",
       "        1425.8933058 , 1782.36663225, 2138.8399587 , 2495.31328515,\n",
       "        2851.7866116 , 3208.25993805, 3564.7332645 ]),\n",
       " <BarContainer object of 10 artists>)"
      ]
     },
     "execution_count": 52,
     "metadata": {},
     "output_type": "execute_result"
    },
    {
     "data": {
      "image/png": "[encoded data removed]",
      "text/plain": [
       "<Figure size 432x288 with 1 Axes>"
      ]
     },
     "metadata": {
      "needs_background": "light"
     },
     "output_type": "display_data"
    }
   ],
   "source": [
    "plt.hist(passing_minutes.values())"
   ]
  },
  {
   "cell_type": "code",
   "execution_count": 53,
   "metadata": {},
   "outputs": [
    {
     "data": {
      "text/plain": [
       "(array([272.,  34.,  17.,   9.,   6.,   2.,   1.,   5.,   0.,   2.]),\n",
       " array([   0.        ,  176.85227493,  353.70454987,  530.5568248 ,\n",
       "         707.40909973,  884.26137467, 1061.1136496 , 1237.96592453,\n",
       "        1414.81819947, 1591.6704744 , 1768.52274933]),\n",
       " <BarContainer object of 10 artists>)"
      ]
     },
     "execution_count": 53,
     "metadata": {},
     "output_type": "execute_result"
    },
    {
     "data": {
      "image/png": "[encoded data removed]",
      "text/plain": [
       "<Figure size 432x288 with 1 Axes>"
      ]
     },
     "metadata": {
      "needs_background": "light"
     },
     "output_type": "display_data"
    }
   ],
   "source": [
    "plt.hist(non_passing_minutes.values())"
   ]
  },
  {
   "cell_type": "code",
   "execution_count": 54,
   "metadata": {},
   "outputs": [
    {
     "data": {
      "text/plain": [
       "(array([516.,  97.,  23.,   4.,   3.,   3.,   0.,   0.,   0.,   1.]),\n",
       " array([ 0. ,  3.6,  7.2, 10.8, 14.4, 18. , 21.6, 25.2, 28.8, 32.4, 36. ]),\n",
       " <BarContainer object of 10 artists>)"
      ]
     },
     "execution_count": 54,
     "metadata": {},
     "output_type": "execute_result"
    },
    {
     "data": {
      "image/png": "[encoded data removed]",
      "text/plain": [
       "<Figure size 432x288 with 1 Axes>"
      ]
     },
     "metadata": {
      "needs_background": "light"
     },
     "output_type": "display_data"
    }
   ],
   "source": [
    "plt.hist(passing_lessons.values())"
   ]
  },
  {
   "cell_type": "code",
   "execution_count": 55,
   "metadata": {},
   "outputs": [
    {
     "data": {
      "text/plain": [
       "(array([317.,  17.,   6.,   4.,   1.,   1.,   0.,   1.,   0.,   1.]),\n",
       " array([ 0. ,  2.7,  5.4,  8.1, 10.8, 13.5, 16.2, 18.9, 21.6, 24.3, 27. ]),\n",
       " <BarContainer object of 10 artists>)"
      ]
     },
     "execution_count": 55,
     "metadata": {},
     "output_type": "execute_result"
    },
    {
     "data": {
      "image/png": "[encoded data removed]",
      "text/plain": [
       "<Figure size 432x288 with 1 Axes>"
      ]
     },
     "metadata": {
      "needs_background": "light"
     },
     "output_type": "display_data"
    }
   ],
   "source": [
    "plt.hist(non_passing_lessons.values())"
   ]
  },
  {
   "cell_type": "code",
   "execution_count": 56,
   "metadata": {},
   "outputs": [
    {
     "data": {
      "text/plain": [
       "(array([207., 116., 186.,  85.,  37.,   6.,   5.,   2.,   1.,   2.]),\n",
       " array([ 0. ,  2.5,  5. ,  7.5, 10. , 12.5, 15. , 17.5, 20. , 22.5, 25. ]),\n",
       " <BarContainer object of 10 artists>)"
      ]
     },
     "execution_count": 56,
     "metadata": {},
     "output_type": "execute_result"
    },
    {
     "data": {
      "image/png": "[encoded data removed]",
      "text/plain": [
       "<Figure size 432x288 with 1 Axes>"
      ]
     },
     "metadata": {
      "needs_background": "light"
     },
     "output_type": "display_data"
    }
   ],
   "source": [
    "plt.hist(passing_visits.values())"
   ]
  },
  {
   "cell_type": "code",
   "execution_count": 57,
   "metadata": {},
   "outputs": [
    {
     "data": {
      "text/plain": [
       "(array([165.,  88.,  39.,  29.,  10.,  11.,   4.,   1.,   0.,   1.]),\n",
       " array([ 0. ,  1.8,  3.6,  5.4,  7.2,  9. , 10.8, 12.6, 14.4, 16.2, 18. ]),\n",
       " <BarContainer object of 10 artists>)"
      ]
     },
     "execution_count": 57,
     "metadata": {},
     "output_type": "execute_result"
    },
    {
     "data": {
      "image/png": "[encoded data removed]",
      "text/plain": [
       "<Figure size 432x288 with 1 Axes>"
      ]
     },
     "metadata": {
      "needs_background": "light"
     },
     "output_type": "display_data"
    }
   ],
   "source": [
    "plt.hist(non_passing_visits.values())"
   ]
  },
  {
   "cell_type": "code",
   "execution_count": 59,
   "metadata": {},
   "outputs": [
    {
     "name": "stdout",
     "output_type": "stream",
     "text": [
      "Populating the interactive namespace from numpy and matplotlib\n",
      "Mean: 306.7083267534287\n",
      "Standard deviation: 413.2046261213701\n",
      "Minimum: 0.0\n",
      "Maximum: 3564.73326449893\n"
     ]
    },
    {
     "data": {
      "image/png": "[encoded data removed]",
      "text/plain": [
       "<Figure size 432x288 with 1 Axes>"
      ]
     },
     "metadata": {
      "needs_background": "light"
     },
     "output_type": "display_data"
    }
   ],
   "source": [
    "'''\n",
    "instead of doing each histogram seperately it can be done i nthe describe data function like below\n",
    "'''\n",
    "\n",
    "\n",
    "import statistics as stat\n",
    "import matplotlib.pyplot as plt\n",
    "import numpy as np\n",
    "\n",
    "%pylab inline\n",
    "\n",
    "def describe_data(data): \n",
    "    print('Mean:', stat.mean(data))\n",
    "    print('Standard deviation:', stat.stdev(data))\n",
    "    print('Minimum:', min(data))\n",
    "    print('Maximum:', max(data))\n",
    "    plt.hist(data)\n",
    "    \n",
    "    \n",
    "    \n",
    "total_minutes = total_minutes_by_account.values()\n",
    "describe_data(total_minutes)\n"
   ]
  },
  {
   "cell_type": "markdown",
   "metadata": {},
   "source": [
    "## Improving Plots and Sharing Findings"
   ]
  },
  {
   "cell_type": "code",
   "execution_count": 60,
   "metadata": {},
   "outputs": [
    {
     "data": {
      "text/plain": [
       "Text(0, 0.5, 'Total Students')"
      ]
     },
     "execution_count": 60,
     "metadata": {},
     "output_type": "execute_result"
    },
    {
     "data": {
      "image/png": "[encoded data removed]",
      "text/plain": [
       "<Figure size 432x288 with 1 Axes>"
      ]
     },
     "metadata": {
      "needs_background": "light"
     },
     "output_type": "display_data"
    }
   ],
   "source": [
    "######################################\n",
    "#                 14                 #\n",
    "######################################\n",
    "\n",
    "## Make a more polished version of at least one of your visualizations\n",
    "## from earlier. Try importing the seaborn library to make the visualization\n",
    "## look better, adding axis labels and a title, and changing one or more\n",
    "## arguments to the hist() function.\n",
    "\n",
    "plt.title(\"# Minutes for Passing Students Spent Studying\")\n",
    "plt.hist(passing_minutes.values())\n",
    "plt.xlabel(\"Total Minutes\")\n",
    "plt.ylabel(\"Total Students\")\n",
    "\n",
    "#plt.hist(non_passing_minutes.values())"
   ]
  },
  {
   "cell_type": "code",
   "execution_count": 63,
   "metadata": {},
   "outputs": [
    {
     "data": {
      "text/plain": [
       "Text(0, 0.5, 'Total Students')"
      ]
     },
     "execution_count": 63,
     "metadata": {},
     "output_type": "execute_result"
    },
    {
     "data": {
      "image/png": "[encoded data removed]",
      "text/plain": [
       "<Figure size 432x288 with 1 Axes>"
      ]
     },
     "metadata": {
      "needs_background": "light"
     },
     "output_type": "display_data"
    }
   ],
   "source": [
    "plt.title(\"# Minutes for Passing Students Spent Studying\")\n",
    "plt.hist(passing_minutes.values(), bins=20)\n",
    "plt.xlabel(\"Total Minutes\")\n",
    "plt.ylabel(\"Total Students\")"
   ]
  },
  {
   "cell_type": "code",
   "execution_count": 69,
   "metadata": {},
   "outputs": [
    {
     "data": {
      "text/plain": [
       "Text(0, 0.5, 'Total Students')"
      ]
     },
     "execution_count": 69,
     "metadata": {},
     "output_type": "execute_result"
    },
    {
     "data": {
      "image/png": "[encoded data removed]",
      "text/plain": [
       "<Figure size 432x288 with 1 Axes>"
      ]
     },
     "metadata": {},
     "output_type": "display_data"
    }
   ],
   "source": [
    "import seaborn as sns\n",
    "\n",
    "sns.set()\n",
    "\n",
    "plt.title(\"# Minutes for Passing Students Spent Studying\")\n",
    "plt.hist(passing_minutes.values(), bins=15)\n",
    "plt.xlabel(\"Total Minutes\")\n",
    "plt.ylabel(\"Total Students\")"
   ]
  },
  {
   "cell_type": "code",
   "execution_count": null,
   "metadata": {},
   "outputs": [],
   "source": []
  }
 ],
 "metadata": {
  "kernelspec": {
   "display_name": "Python 3",
   "language": "python",
   "name": "python3"
  },
  "language_info": {
   "codemirror_mode": {
    "name": "ipython",
    "version": 3
   },
   "file_extension": ".py",
   "mimetype": "text/x-python",
   "name": "python",
   "nbconvert_exporter": "python",
   "pygments_lexer": "ipython3",
   "version": "3.7.9"
  }
 },
 "nbformat": 4,
 "nbformat_minor": 1
}
